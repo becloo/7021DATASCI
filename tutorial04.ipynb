{
  "cells": [
    {
      "cell_type": "markdown",
      "metadata": {
        "id": "BTvwLfthUkQl"
      },
      "source": [
        "# Tutorial 04: ML modelling\n",
        "by Dr Ivan Olier-Caparroso, last updated: 01/02/22\n",
        "\n",
        "## Introduction\n",
        "We will use the *Pima Indians Diabetes* dataset. We have use it in previous tutorials. Please refer to them for a description of the data. Note that the version we will use in this tutorial contains missing values. In this sense, it is not equivalent to the ones used in previous tutorials. In this occasion, the data is already pre-processed and split into training and test subsets.\n",
        "\n",
        "We will train several ML models and test their performances via a  Kaggle competition. Kaggle competitions follow the typical idea that the targets (or outputs) of the test set are hidden to you. You should use the training set to create your models and make predictions on the test set, which then are uploaded to Kaggle for it to estimate the model performance score and rank your model against other competitors. In this tutorial, we will produce several ML models, generate a predictions file for each of them using the test set, and upload the files to Kaggle.\n",
        "\n",
        "More information about Kaggle can be found in its website (https://www.kaggle.com/) and in it Wikipedia's page (https://en.wikipedia.org/wiki/Kaggle)\n",
        "\n",
        "The data is available in the Kaggle competition, with link:\n",
        "\n",
        "https://www.kaggle.com/c/tutorial-04\n",
        "\n",
        "and the invitation to join the competition is available here:\n",
        "\n",
        "https://www.kaggle.com/t/fb5e796e3f4c4c568f4f31522f09ed32\n",
        "\n",
        "Let's assume you have downloaded the data already:"
      ]
    },
    {
      "cell_type": "code",
      "execution_count": null,
      "metadata": {
        "colab": {
          "resources": {
            "http://localhost:8080/nbextensions/google.colab/files.js": {
              "data": "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",
              "ok": true,
              "headers": [
                [
                  "content-type",
                  "application/javascript"
                ]
              ],
              "status": 200,
              "status_text": ""
            }
          },
          "base_uri": "https://localhost:8080/",
          "height": 142
        },
        "id": "PiJ2CZBsUkQo",
        "outputId": "26bec99b-e739-4553-c699-ea24fc61ba60"
      },
      "outputs": [
        {
          "output_type": "display_data",
          "data": {
            "text/html": [
              "\n",
              "     <input type=\"file\" id=\"files-8f0f0999-288f-4a63-ae72-b003734491b0\" name=\"files[]\" multiple disabled\n",
              "        style=\"border:none\" />\n",
              "     <output id=\"result-8f0f0999-288f-4a63-ae72-b003734491b0\">\n",
              "      Upload widget is only available when the cell has been executed in the\n",
              "      current browser session. Please rerun this cell to enable.\n",
              "      </output>\n",
              "      <script src=\"/nbextensions/google.colab/files.js\"></script> "
            ],
            "text/plain": [
              "<IPython.core.display.HTML object>"
            ]
          },
          "metadata": {}
        },
        {
          "output_type": "stream",
          "name": "stdout",
          "text": [
            "Saving pima_test.csv to pima_test.csv\n",
            "Saving pima_train.csv to pima_train.csv\n",
            "Saving predictions_example.csv to predictions_example.csv\n"
          ]
        }
      ],
      "source": [
        "import os\n",
        "from google.colab import files\n",
        "from google.colab import drive\n",
        "import pandas as pd\n",
        "import numpy as np\n",
        "from matplotlib import pyplot as plt\n",
        "%matplotlib inline\n",
        "uploaded = files.upload()\n"
      ]
    },
    {
      "cell_type": "code",
      "source": [
        "dset_trn = pd.read_csv('pima_train.csv')\n",
        "dset_tst = pd.read_csv('pima_test.csv')"
      ],
      "metadata": {
        "id": "ue2aU1L2Yc3H"
      },
      "execution_count": null,
      "outputs": []
    },
    {
      "cell_type": "markdown",
      "metadata": {
        "id": "3tjaLX8hUkQp"
      },
      "source": [
        "* Let's have a look at the training set:"
      ]
    },
    {
      "cell_type": "code",
      "execution_count": null,
      "metadata": {
        "colab": {
          "base_uri": "https://localhost:8080/",
          "height": 206
        },
        "id": "7pSZaVGNUkQp",
        "outputId": "7d300283-3b68-4f8b-ecc9-f268e8b3da44"
      },
      "outputs": [
        {
          "output_type": "execute_result",
          "data": {
            "text/html": [
              "\n",
              "  <div id=\"df-3029ee93-f1df-48c0-b9c4-1d630c2f50be\">\n",
              "    <div class=\"colab-df-container\">\n",
              "      <div>\n",
              "<style scoped>\n",
              "    .dataframe tbody tr th:only-of-type {\n",
              "        vertical-align: middle;\n",
              "    }\n",
              "\n",
              "    .dataframe tbody tr th {\n",
              "        vertical-align: top;\n",
              "    }\n",
              "\n",
              "    .dataframe thead th {\n",
              "        text-align: right;\n",
              "    }\n",
              "</style>\n",
              "<table border=\"1\" class=\"dataframe\">\n",
              "  <thead>\n",
              "    <tr style=\"text-align: right;\">\n",
              "      <th></th>\n",
              "      <th>Pregnancies</th>\n",
              "      <th>Glucose</th>\n",
              "      <th>BloodPressure</th>\n",
              "      <th>SkinThickness</th>\n",
              "      <th>Insulin</th>\n",
              "      <th>BMI</th>\n",
              "      <th>DiabetesPedigreeFunction</th>\n",
              "      <th>Age</th>\n",
              "      <th>Outcome</th>\n",
              "      <th>Id</th>\n",
              "    </tr>\n",
              "  </thead>\n",
              "  <tbody>\n",
              "    <tr>\n",
              "      <th>0</th>\n",
              "      <td>0</td>\n",
              "      <td>131.0</td>\n",
              "      <td>66.0</td>\n",
              "      <td>40.0</td>\n",
              "      <td>NaN</td>\n",
              "      <td>34.3</td>\n",
              "      <td>0.196</td>\n",
              "      <td>22</td>\n",
              "      <td>1</td>\n",
              "      <td>397</td>\n",
              "    </tr>\n",
              "    <tr>\n",
              "      <th>1</th>\n",
              "      <td>4</td>\n",
              "      <td>114.0</td>\n",
              "      <td>64.0</td>\n",
              "      <td>NaN</td>\n",
              "      <td>NaN</td>\n",
              "      <td>28.9</td>\n",
              "      <td>0.126</td>\n",
              "      <td>24</td>\n",
              "      <td>0</td>\n",
              "      <td>474</td>\n",
              "    </tr>\n",
              "    <tr>\n",
              "      <th>2</th>\n",
              "      <td>9</td>\n",
              "      <td>122.0</td>\n",
              "      <td>56.0</td>\n",
              "      <td>NaN</td>\n",
              "      <td>NaN</td>\n",
              "      <td>33.3</td>\n",
              "      <td>1.114</td>\n",
              "      <td>33</td>\n",
              "      <td>1</td>\n",
              "      <td>131</td>\n",
              "    </tr>\n",
              "    <tr>\n",
              "      <th>3</th>\n",
              "      <td>10</td>\n",
              "      <td>111.0</td>\n",
              "      <td>70.0</td>\n",
              "      <td>27.0</td>\n",
              "      <td>NaN</td>\n",
              "      <td>27.5</td>\n",
              "      <td>0.141</td>\n",
              "      <td>40</td>\n",
              "      <td>1</td>\n",
              "      <td>667</td>\n",
              "    </tr>\n",
              "    <tr>\n",
              "      <th>4</th>\n",
              "      <td>12</td>\n",
              "      <td>84.0</td>\n",
              "      <td>72.0</td>\n",
              "      <td>31.0</td>\n",
              "      <td>NaN</td>\n",
              "      <td>29.7</td>\n",
              "      <td>0.297</td>\n",
              "      <td>46</td>\n",
              "      <td>1</td>\n",
              "      <td>510</td>\n",
              "    </tr>\n",
              "  </tbody>\n",
              "</table>\n",
              "</div>\n",
              "      <button class=\"colab-df-convert\" onclick=\"convertToInteractive('df-3029ee93-f1df-48c0-b9c4-1d630c2f50be')\"\n",
              "              title=\"Convert this dataframe to an interactive table.\"\n",
              "              style=\"display:none;\">\n",
              "        \n",
              "  <svg xmlns=\"http://www.w3.org/2000/svg\" height=\"24px\"viewBox=\"0 0 24 24\"\n",
              "       width=\"24px\">\n",
              "    <path d=\"M0 0h24v24H0V0z\" fill=\"none\"/>\n",
              "    <path d=\"M18.56 5.44l.94 2.06.94-2.06 2.06-.94-2.06-.94-.94-2.06-.94 2.06-2.06.94zm-11 1L8.5 8.5l.94-2.06 2.06-.94-2.06-.94L8.5 2.5l-.94 2.06-2.06.94zm10 10l.94 2.06.94-2.06 2.06-.94-2.06-.94-.94-2.06-.94 2.06-2.06.94z\"/><path d=\"M17.41 7.96l-1.37-1.37c-.4-.4-.92-.59-1.43-.59-.52 0-1.04.2-1.43.59L10.3 9.45l-7.72 7.72c-.78.78-.78 2.05 0 2.83L4 21.41c.39.39.9.59 1.41.59.51 0 1.02-.2 1.41-.59l7.78-7.78 2.81-2.81c.8-.78.8-2.07 0-2.86zM5.41 20L4 18.59l7.72-7.72 1.47 1.35L5.41 20z\"/>\n",
              "  </svg>\n",
              "      </button>\n",
              "      \n",
              "  <style>\n",
              "    .colab-df-container {\n",
              "      display:flex;\n",
              "      flex-wrap:wrap;\n",
              "      gap: 12px;\n",
              "    }\n",
              "\n",
              "    .colab-df-convert {\n",
              "      background-color: #E8F0FE;\n",
              "      border: none;\n",
              "      border-radius: 50%;\n",
              "      cursor: pointer;\n",
              "      display: none;\n",
              "      fill: #1967D2;\n",
              "      height: 32px;\n",
              "      padding: 0 0 0 0;\n",
              "      width: 32px;\n",
              "    }\n",
              "\n",
              "    .colab-df-convert:hover {\n",
              "      background-color: #E2EBFA;\n",
              "      box-shadow: 0px 1px 2px rgba(60, 64, 67, 0.3), 0px 1px 3px 1px rgba(60, 64, 67, 0.15);\n",
              "      fill: #174EA6;\n",
              "    }\n",
              "\n",
              "    [theme=dark] .colab-df-convert {\n",
              "      background-color: #3B4455;\n",
              "      fill: #D2E3FC;\n",
              "    }\n",
              "\n",
              "    [theme=dark] .colab-df-convert:hover {\n",
              "      background-color: #434B5C;\n",
              "      box-shadow: 0px 1px 3px 1px rgba(0, 0, 0, 0.15);\n",
              "      filter: drop-shadow(0px 1px 2px rgba(0, 0, 0, 0.3));\n",
              "      fill: #FFFFFF;\n",
              "    }\n",
              "  </style>\n",
              "\n",
              "      <script>\n",
              "        const buttonEl =\n",
              "          document.querySelector('#df-3029ee93-f1df-48c0-b9c4-1d630c2f50be button.colab-df-convert');\n",
              "        buttonEl.style.display =\n",
              "          google.colab.kernel.accessAllowed ? 'block' : 'none';\n",
              "\n",
              "        async function convertToInteractive(key) {\n",
              "          const element = document.querySelector('#df-3029ee93-f1df-48c0-b9c4-1d630c2f50be');\n",
              "          const dataTable =\n",
              "            await google.colab.kernel.invokeFunction('convertToInteractive',\n",
              "                                                     [key], {});\n",
              "          if (!dataTable) return;\n",
              "\n",
              "          const docLinkHtml = 'Like what you see? Visit the ' +\n",
              "            '<a target=\"_blank\" href=https://colab.research.google.com/notebooks/data_table.ipynb>data table notebook</a>'\n",
              "            + ' to learn more about interactive tables.';\n",
              "          element.innerHTML = '';\n",
              "          dataTable['output_type'] = 'display_data';\n",
              "          await google.colab.output.renderOutput(dataTable, element);\n",
              "          const docLink = document.createElement('div');\n",
              "          docLink.innerHTML = docLinkHtml;\n",
              "          element.appendChild(docLink);\n",
              "        }\n",
              "      </script>\n",
              "    </div>\n",
              "  </div>\n",
              "  "
            ],
            "text/plain": [
              "   Pregnancies  Glucose  BloodPressure  ...  Age  Outcome   Id\n",
              "0            0    131.0           66.0  ...   22        1  397\n",
              "1            4    114.0           64.0  ...   24        0  474\n",
              "2            9    122.0           56.0  ...   33        1  131\n",
              "3           10    111.0           70.0  ...   40        1  667\n",
              "4           12     84.0           72.0  ...   46        1  510\n",
              "\n",
              "[5 rows x 10 columns]"
            ]
          },
          "metadata": {},
          "execution_count": 18
        }
      ],
      "source": [
        "dset_trn.head()"
      ]
    },
    {
      "cell_type": "markdown",
      "metadata": {
        "id": "NN_PAk6dUkQq"
      },
      "source": [
        "* and at the test set:"
      ]
    },
    {
      "cell_type": "code",
      "execution_count": null,
      "metadata": {
        "colab": {
          "base_uri": "https://localhost:8080/",
          "height": 206
        },
        "id": "0vOHdep2UkQq",
        "outputId": "16cf7142-41ec-4975-bcd9-0d86a728d1eb"
      },
      "outputs": [
        {
          "output_type": "execute_result",
          "data": {
            "text/html": [
              "\n",
              "  <div id=\"df-fe8d993c-8ed0-4461-8c2e-2332509d5125\">\n",
              "    <div class=\"colab-df-container\">\n",
              "      <div>\n",
              "<style scoped>\n",
              "    .dataframe tbody tr th:only-of-type {\n",
              "        vertical-align: middle;\n",
              "    }\n",
              "\n",
              "    .dataframe tbody tr th {\n",
              "        vertical-align: top;\n",
              "    }\n",
              "\n",
              "    .dataframe thead th {\n",
              "        text-align: right;\n",
              "    }\n",
              "</style>\n",
              "<table border=\"1\" class=\"dataframe\">\n",
              "  <thead>\n",
              "    <tr style=\"text-align: right;\">\n",
              "      <th></th>\n",
              "      <th>Pregnancies</th>\n",
              "      <th>Glucose</th>\n",
              "      <th>BloodPressure</th>\n",
              "      <th>SkinThickness</th>\n",
              "      <th>Insulin</th>\n",
              "      <th>BMI</th>\n",
              "      <th>DiabetesPedigreeFunction</th>\n",
              "      <th>Age</th>\n",
              "      <th>Id</th>\n",
              "    </tr>\n",
              "  </thead>\n",
              "  <tbody>\n",
              "    <tr>\n",
              "      <th>0</th>\n",
              "      <td>1</td>\n",
              "      <td>85.0</td>\n",
              "      <td>66.0</td>\n",
              "      <td>29.0</td>\n",
              "      <td>NaN</td>\n",
              "      <td>26.6</td>\n",
              "      <td>0.351</td>\n",
              "      <td>31</td>\n",
              "      <td>1</td>\n",
              "    </tr>\n",
              "    <tr>\n",
              "      <th>1</th>\n",
              "      <td>0</td>\n",
              "      <td>137.0</td>\n",
              "      <td>40.0</td>\n",
              "      <td>35.0</td>\n",
              "      <td>168.0</td>\n",
              "      <td>43.1</td>\n",
              "      <td>2.288</td>\n",
              "      <td>33</td>\n",
              "      <td>4</td>\n",
              "    </tr>\n",
              "    <tr>\n",
              "      <th>2</th>\n",
              "      <td>5</td>\n",
              "      <td>116.0</td>\n",
              "      <td>74.0</td>\n",
              "      <td>NaN</td>\n",
              "      <td>NaN</td>\n",
              "      <td>25.6</td>\n",
              "      <td>0.201</td>\n",
              "      <td>30</td>\n",
              "      <td>5</td>\n",
              "    </tr>\n",
              "    <tr>\n",
              "      <th>3</th>\n",
              "      <td>10</td>\n",
              "      <td>168.0</td>\n",
              "      <td>74.0</td>\n",
              "      <td>NaN</td>\n",
              "      <td>NaN</td>\n",
              "      <td>38.0</td>\n",
              "      <td>0.537</td>\n",
              "      <td>34</td>\n",
              "      <td>11</td>\n",
              "    </tr>\n",
              "    <tr>\n",
              "      <th>4</th>\n",
              "      <td>1</td>\n",
              "      <td>103.0</td>\n",
              "      <td>30.0</td>\n",
              "      <td>38.0</td>\n",
              "      <td>83.0</td>\n",
              "      <td>43.3</td>\n",
              "      <td>0.183</td>\n",
              "      <td>33</td>\n",
              "      <td>18</td>\n",
              "    </tr>\n",
              "  </tbody>\n",
              "</table>\n",
              "</div>\n",
              "      <button class=\"colab-df-convert\" onclick=\"convertToInteractive('df-fe8d993c-8ed0-4461-8c2e-2332509d5125')\"\n",
              "              title=\"Convert this dataframe to an interactive table.\"\n",
              "              style=\"display:none;\">\n",
              "        \n",
              "  <svg xmlns=\"http://www.w3.org/2000/svg\" height=\"24px\"viewBox=\"0 0 24 24\"\n",
              "       width=\"24px\">\n",
              "    <path d=\"M0 0h24v24H0V0z\" fill=\"none\"/>\n",
              "    <path d=\"M18.56 5.44l.94 2.06.94-2.06 2.06-.94-2.06-.94-.94-2.06-.94 2.06-2.06.94zm-11 1L8.5 8.5l.94-2.06 2.06-.94-2.06-.94L8.5 2.5l-.94 2.06-2.06.94zm10 10l.94 2.06.94-2.06 2.06-.94-2.06-.94-.94-2.06-.94 2.06-2.06.94z\"/><path d=\"M17.41 7.96l-1.37-1.37c-.4-.4-.92-.59-1.43-.59-.52 0-1.04.2-1.43.59L10.3 9.45l-7.72 7.72c-.78.78-.78 2.05 0 2.83L4 21.41c.39.39.9.59 1.41.59.51 0 1.02-.2 1.41-.59l7.78-7.78 2.81-2.81c.8-.78.8-2.07 0-2.86zM5.41 20L4 18.59l7.72-7.72 1.47 1.35L5.41 20z\"/>\n",
              "  </svg>\n",
              "      </button>\n",
              "      \n",
              "  <style>\n",
              "    .colab-df-container {\n",
              "      display:flex;\n",
              "      flex-wrap:wrap;\n",
              "      gap: 12px;\n",
              "    }\n",
              "\n",
              "    .colab-df-convert {\n",
              "      background-color: #E8F0FE;\n",
              "      border: none;\n",
              "      border-radius: 50%;\n",
              "      cursor: pointer;\n",
              "      display: none;\n",
              "      fill: #1967D2;\n",
              "      height: 32px;\n",
              "      padding: 0 0 0 0;\n",
              "      width: 32px;\n",
              "    }\n",
              "\n",
              "    .colab-df-convert:hover {\n",
              "      background-color: #E2EBFA;\n",
              "      box-shadow: 0px 1px 2px rgba(60, 64, 67, 0.3), 0px 1px 3px 1px rgba(60, 64, 67, 0.15);\n",
              "      fill: #174EA6;\n",
              "    }\n",
              "\n",
              "    [theme=dark] .colab-df-convert {\n",
              "      background-color: #3B4455;\n",
              "      fill: #D2E3FC;\n",
              "    }\n",
              "\n",
              "    [theme=dark] .colab-df-convert:hover {\n",
              "      background-color: #434B5C;\n",
              "      box-shadow: 0px 1px 3px 1px rgba(0, 0, 0, 0.15);\n",
              "      filter: drop-shadow(0px 1px 2px rgba(0, 0, 0, 0.3));\n",
              "      fill: #FFFFFF;\n",
              "    }\n",
              "  </style>\n",
              "\n",
              "      <script>\n",
              "        const buttonEl =\n",
              "          document.querySelector('#df-fe8d993c-8ed0-4461-8c2e-2332509d5125 button.colab-df-convert');\n",
              "        buttonEl.style.display =\n",
              "          google.colab.kernel.accessAllowed ? 'block' : 'none';\n",
              "\n",
              "        async function convertToInteractive(key) {\n",
              "          const element = document.querySelector('#df-fe8d993c-8ed0-4461-8c2e-2332509d5125');\n",
              "          const dataTable =\n",
              "            await google.colab.kernel.invokeFunction('convertToInteractive',\n",
              "                                                     [key], {});\n",
              "          if (!dataTable) return;\n",
              "\n",
              "          const docLinkHtml = 'Like what you see? Visit the ' +\n",
              "            '<a target=\"_blank\" href=https://colab.research.google.com/notebooks/data_table.ipynb>data table notebook</a>'\n",
              "            + ' to learn more about interactive tables.';\n",
              "          element.innerHTML = '';\n",
              "          dataTable['output_type'] = 'display_data';\n",
              "          await google.colab.output.renderOutput(dataTable, element);\n",
              "          const docLink = document.createElement('div');\n",
              "          docLink.innerHTML = docLinkHtml;\n",
              "          element.appendChild(docLink);\n",
              "        }\n",
              "      </script>\n",
              "    </div>\n",
              "  </div>\n",
              "  "
            ],
            "text/plain": [
              "   Pregnancies  Glucose  BloodPressure  ...  DiabetesPedigreeFunction  Age  Id\n",
              "0            1     85.0           66.0  ...                     0.351   31   1\n",
              "1            0    137.0           40.0  ...                     2.288   33   4\n",
              "2            5    116.0           74.0  ...                     0.201   30   5\n",
              "3           10    168.0           74.0  ...                     0.537   34  11\n",
              "4            1    103.0           30.0  ...                     0.183   33  18\n",
              "\n",
              "[5 rows x 9 columns]"
            ]
          },
          "metadata": {},
          "execution_count": 19
        }
      ],
      "source": [
        "dset_tst.head() # Note there is no 'Outcome'"
      ]
    },
    {
      "cell_type": "markdown",
      "metadata": {
        "id": "KVRK5DdHUkQq"
      },
      "source": [
        "Notice that the above dataframes contain rows with missing values. We must decide how to handle them as part of the data pre-processing. *Scikit-learn* offers several alternatives to handle missing values. Please refer to its documentation for more information: https://scikit-learn.org/stable/modules/impute.html. \n",
        "\n",
        "First, let's have a look at the level of missingness in the data. We can use the combination of the pandas functions `isna` and `sum` to count the number of missing values in each column:"
      ]
    },
    {
      "cell_type": "code",
      "execution_count": null,
      "metadata": {
        "colab": {
          "base_uri": "https://localhost:8080/"
        },
        "id": "6iZX3TdRUkQr",
        "outputId": "51931404-a35f-4e03-9559-5b77c55804b3"
      },
      "outputs": [
        {
          "output_type": "execute_result",
          "data": {
            "text/plain": [
              "Pregnancies                   0\n",
              "Glucose                       4\n",
              "BloodPressure                26\n",
              "SkinThickness               162\n",
              "Insulin                     266\n",
              "BMI                           8\n",
              "DiabetesPedigreeFunction      0\n",
              "Age                           0\n",
              "Outcome                       0\n",
              "Id                            0\n",
              "dtype: int64"
            ]
          },
          "metadata": {},
          "execution_count": 21
        }
      ],
      "source": [
        "dset_trn.isna().sum()     # shows the number of missings per column"
      ]
    },
    {
      "cell_type": "markdown",
      "metadata": {
        "id": "zSxWUuWKUkQr"
      },
      "source": [
        "Or, in proportions, as follows:"
      ]
    },
    {
      "cell_type": "code",
      "execution_count": null,
      "metadata": {
        "colab": {
          "base_uri": "https://localhost:8080/"
        },
        "id": "AojpLLzeUkQr",
        "outputId": "65b4e766-af9f-4d21-b520-380d55daccb2"
      },
      "outputs": [
        {
          "output_type": "execute_result",
          "data": {
            "text/plain": [
              "Pregnancies                 0.000000\n",
              "Glucose                     0.007435\n",
              "BloodPressure               0.048327\n",
              "SkinThickness               0.301115\n",
              "Insulin                     0.494424\n",
              "BMI                         0.014870\n",
              "DiabetesPedigreeFunction    0.000000\n",
              "Age                         0.000000\n",
              "Outcome                     0.000000\n",
              "Id                          0.000000\n",
              "dtype: float64"
            ]
          },
          "metadata": {},
          "execution_count": 22
        }
      ],
      "source": [
        "n_obs_trn = dset_trn.shape[0]\n",
        "dset_trn.isna().sum()/n_obs_trn"
      ]
    },
    {
      "cell_type": "markdown",
      "metadata": {
        "id": "YEtiDNltUkQs"
      },
      "source": [
        "Notice that the level of missingness of the *Insulin* variable is almost 50\\%, so it is sensible to drop that variable."
      ]
    },
    {
      "cell_type": "code",
      "execution_count": null,
      "metadata": {
        "id": "nNoeQT9YUkQs"
      },
      "outputs": [],
      "source": [
        "dset_trn.drop(columns='Insulin', inplace=True)\n",
        "dset_tst.drop(columns='Insulin', inplace=True)"
      ]
    },
    {
      "cell_type": "markdown",
      "metadata": {
        "id": "sdrpo_enUkQs"
      },
      "source": [
        " For the rest, we can adopt a *simple missing value imputation* that considers every column separately. We will impute the *mean* value, which is perhaps the simplest strategy. *Scikit-learn* implements a simple imputer through the class `SimpleImputer`. Again, refer to the above documentation for more details. Before we impute the missing values, we should convert the data to (`numpy`) arrays, which are what `sklearn` handles."
      ]
    },
    {
      "cell_type": "code",
      "execution_count": null,
      "metadata": {
        "id": "YDEX5I8wUkQt"
      },
      "outputs": [],
      "source": [
        "X_train = dset_trn.drop(columns=['Id','Outcome']).to_numpy()\n",
        "X_test = dset_tst.drop(columns='Id').to_numpy()\n",
        "y_train = dset_trn['Outcome'].to_numpy()\n"
      ]
    },
    {
      "cell_type": "code",
      "execution_count": null,
      "metadata": {
        "id": "ds_Edq55UkQt"
      },
      "outputs": [],
      "source": [
        "from sklearn.impute import SimpleImputer\n",
        "imp = SimpleImputer(strategy='mean').fit(X_train)\n",
        "X_train = imp.transform(X_train)\n",
        "X_test = imp.transform(X_test)"
      ]
    },
    {
      "cell_type": "markdown",
      "metadata": {
        "id": "qRnl-gp_UkQt"
      },
      "source": [
        "Now, we can scale the data as we did in previous tutorials:"
      ]
    },
    {
      "cell_type": "code",
      "execution_count": null,
      "metadata": {
        "id": "X8PAs-HOUkQu"
      },
      "outputs": [],
      "source": [
        "from sklearn import preprocessing\n",
        "\n",
        "mm_scaler = preprocessing.StandardScaler()  # creates a Transformer (set of preprocessing operations)\n",
        "X_train = mm_scaler.fit_transform(X_train)  # estimates transformation parameters using the training set, and applies to them\n",
        "X_test = mm_scaler.transform(X_test) # transforms test set using training set parameters."
      ]
    },
    {
      "cell_type": "markdown",
      "metadata": {
        "id": "VlHdz8KvUkQu"
      },
      "source": [
        "\n",
        "https://scikit-learn.org/stable/modules/grid_search.html\n",
        "\n",
        "## Multiple logistic regression\n",
        "\n",
        "Let's now produce a multiple logistic regression model. *Scikit-learn* implements logistic regression with penalisation, being *ridge penalisation (L2)* the default option. It also implemets several ways to solve the optimisation problem (which is called maximum likelihood). In principle, `saga` is the option to go unless the amount of data is not enough. For more details follow this link: https://scikit-learn.org/stable/modules/generated/sklearn.linear_model.LogisticRegression.html. The `sklearn` implementation of logistic regression has several hyperparameter that we might like to tune. In particular, we can tune the penalisation factor ($\\lambda$ in the lecture slides), which in `sklearn` is defined by the *inverse of regularisation strength*. `sklearn` implements a *cross-validated* version of logistic regression that is helpful if we would like to tune a hyperparameter. This is done with the class `LogisticRegressionCV` (instead of `LogisticRegression` that assumes you know your hyperparameters already). Refer to its documentation here: https://scikit-learn.org/stable/modules/generated/sklearn.linear_model.LogisticRegressionCV.html#sklearn.linear_model.LogisticRegressionCV."
      ]
    },
    {
      "cell_type": "code",
      "execution_count": null,
      "metadata": {
        "id": "J70swq1ZUkQu"
      },
      "outputs": [],
      "source": [
        "from sklearn.linear_model import LogisticRegressionCV\n",
        "\n",
        "lr_mdl = LogisticRegressionCV(penalty='l2', #default penalty\n",
        "                              scoring='roc_auc',\n",
        "                              solver='saga', #solving the optimisation problem (maximum likelihood) \n",
        "                              Cs = 6) #grid of Cs values are chosen in a logarithmic scale between 1e-4 and 1e4."
      ]
    },
    {
      "cell_type": "markdown",
      "metadata": {
        "id": "yQtfMo0IUkQv"
      },
      "source": [
        "Now, we can just use the function `fit` to train the model. In this case, `sklearn` will:\n",
        "\n",
        "1. tune the *inverse of regularisation strength* hyperparameter (C) by testing 6 values between 1e-4 to 1e4 using cross-validation (which the number of folds will be 5 by default), and\n",
        "2. use the whole `X_train` to train a logistic regression model using the optimal C.\n"
      ]
    },
    {
      "cell_type": "code",
      "execution_count": null,
      "metadata": {
        "colab": {
          "base_uri": "https://localhost:8080/"
        },
        "id": "Zc1jgTKQUkQv",
        "outputId": "aba57293-a74f-48e6-aec1-ea61a441658d"
      },
      "outputs": [
        {
          "output_type": "execute_result",
          "data": {
            "text/plain": [
              "LogisticRegressionCV(Cs=6, scoring='roc_auc', solver='saga')"
            ]
          },
          "metadata": {},
          "execution_count": 28
        }
      ],
      "source": [
        "lr_mdl.fit(X_train, y_train)"
      ]
    },
    {
      "cell_type": "markdown",
      "metadata": {
        "id": "HKYxMQQpUkQw"
      },
      "source": [
        "We can query several attributes such as the coefficients (or $\\beta$ s), intercept ($\\beta_0$), optimal C, and the performance scores for each hyperparameter value and CV fold:"
      ]
    },
    {
      "cell_type": "code",
      "execution_count": null,
      "metadata": {
        "colab": {
          "base_uri": "https://localhost:8080/"
        },
        "id": "9Chh7LuTUkQw",
        "outputId": "f302ac3d-2cfe-4160-d513-e6c64ae48410"
      },
      "outputs": [
        {
          "output_type": "stream",
          "name": "stdout",
          "text": [
            "Coeficients (betas):  [[ 0.31892261  0.95725913 -0.07526795  0.09631392  0.71166728  0.2673513\n",
            "   0.18009998]]\n",
            "Intercept:  [-0.81942342]\n",
            "Optimal inverse of regularization parameter value:  [0.15848932]\n",
            "Model performance scores [AUC]:  {1: array([[0.83120301, 0.82857143, 0.82969925, 0.82706767, 0.82706767,\n",
            "        0.82706767],\n",
            "       [0.80639098, 0.8093985 , 0.81353383, 0.81428571, 0.81390977,\n",
            "        0.81390977],\n",
            "       [0.78270677, 0.79586466, 0.81278195, 0.81466165, 0.81466165,\n",
            "        0.81466165],\n",
            "       [0.8020595 , 0.80549199, 0.80244088, 0.79824561, 0.79786423,\n",
            "        0.79786423],\n",
            "       [0.86384439, 0.87299771, 0.89588101, 0.89969489, 0.89969489,\n",
            "        0.89969489]])}\n"
          ]
        }
      ],
      "source": [
        "print(\"Coeficients (betas): \", lr_mdl.coef_)\n",
        "print(\"Intercept: \", lr_mdl.intercept_)\n",
        "print(\"Optimal inverse of regularization parameter value: \", lr_mdl.C_)\n",
        "print('Model performance scores [AUC]: ', lr_mdl.scores_)"
      ]
    },
    {
      "cell_type": "markdown",
      "metadata": {
        "id": "e0yExHfbUkQw"
      },
      "source": [
        "Finally, we use `predict_proba` as in previous tutorials to predict the probabilities of the outcomes and form a dataframe that could be uploaded to Kaggle:"
      ]
    },
    {
      "cell_type": "code",
      "execution_count": null,
      "metadata": {
        "colab": {
          "base_uri": "https://localhost:8080/",
          "height": 206
        },
        "id": "fEoZ9ArNUkQw",
        "outputId": "490456f0-36fb-4074-eda9-1bb46451be92"
      },
      "outputs": [
        {
          "output_type": "execute_result",
          "data": {
            "text/html": [
              "\n",
              "  <div id=\"df-89f23026-d634-446b-ac64-269daba548c7\">\n",
              "    <div class=\"colab-df-container\">\n",
              "      <div>\n",
              "<style scoped>\n",
              "    .dataframe tbody tr th:only-of-type {\n",
              "        vertical-align: middle;\n",
              "    }\n",
              "\n",
              "    .dataframe tbody tr th {\n",
              "        vertical-align: top;\n",
              "    }\n",
              "\n",
              "    .dataframe thead th {\n",
              "        text-align: right;\n",
              "    }\n",
              "</style>\n",
              "<table border=\"1\" class=\"dataframe\">\n",
              "  <thead>\n",
              "    <tr style=\"text-align: right;\">\n",
              "      <th></th>\n",
              "      <th>Id</th>\n",
              "      <th>Predicted</th>\n",
              "    </tr>\n",
              "  </thead>\n",
              "  <tbody>\n",
              "    <tr>\n",
              "      <th>0</th>\n",
              "      <td>1</td>\n",
              "      <td>0.050062</td>\n",
              "    </tr>\n",
              "    <tr>\n",
              "      <th>1</th>\n",
              "      <td>4</td>\n",
              "      <td>0.888402</td>\n",
              "    </tr>\n",
              "    <tr>\n",
              "      <th>2</th>\n",
              "      <td>5</td>\n",
              "      <td>0.132097</td>\n",
              "    </tr>\n",
              "    <tr>\n",
              "      <th>3</th>\n",
              "      <td>11</td>\n",
              "      <td>0.860530</td>\n",
              "    </tr>\n",
              "    <tr>\n",
              "      <th>4</th>\n",
              "      <td>18</td>\n",
              "      <td>0.390431</td>\n",
              "    </tr>\n",
              "  </tbody>\n",
              "</table>\n",
              "</div>\n",
              "      <button class=\"colab-df-convert\" onclick=\"convertToInteractive('df-89f23026-d634-446b-ac64-269daba548c7')\"\n",
              "              title=\"Convert this dataframe to an interactive table.\"\n",
              "              style=\"display:none;\">\n",
              "        \n",
              "  <svg xmlns=\"http://www.w3.org/2000/svg\" height=\"24px\"viewBox=\"0 0 24 24\"\n",
              "       width=\"24px\">\n",
              "    <path d=\"M0 0h24v24H0V0z\" fill=\"none\"/>\n",
              "    <path d=\"M18.56 5.44l.94 2.06.94-2.06 2.06-.94-2.06-.94-.94-2.06-.94 2.06-2.06.94zm-11 1L8.5 8.5l.94-2.06 2.06-.94-2.06-.94L8.5 2.5l-.94 2.06-2.06.94zm10 10l.94 2.06.94-2.06 2.06-.94-2.06-.94-.94-2.06-.94 2.06-2.06.94z\"/><path d=\"M17.41 7.96l-1.37-1.37c-.4-.4-.92-.59-1.43-.59-.52 0-1.04.2-1.43.59L10.3 9.45l-7.72 7.72c-.78.78-.78 2.05 0 2.83L4 21.41c.39.39.9.59 1.41.59.51 0 1.02-.2 1.41-.59l7.78-7.78 2.81-2.81c.8-.78.8-2.07 0-2.86zM5.41 20L4 18.59l7.72-7.72 1.47 1.35L5.41 20z\"/>\n",
              "  </svg>\n",
              "      </button>\n",
              "      \n",
              "  <style>\n",
              "    .colab-df-container {\n",
              "      display:flex;\n",
              "      flex-wrap:wrap;\n",
              "      gap: 12px;\n",
              "    }\n",
              "\n",
              "    .colab-df-convert {\n",
              "      background-color: #E8F0FE;\n",
              "      border: none;\n",
              "      border-radius: 50%;\n",
              "      cursor: pointer;\n",
              "      display: none;\n",
              "      fill: #1967D2;\n",
              "      height: 32px;\n",
              "      padding: 0 0 0 0;\n",
              "      width: 32px;\n",
              "    }\n",
              "\n",
              "    .colab-df-convert:hover {\n",
              "      background-color: #E2EBFA;\n",
              "      box-shadow: 0px 1px 2px rgba(60, 64, 67, 0.3), 0px 1px 3px 1px rgba(60, 64, 67, 0.15);\n",
              "      fill: #174EA6;\n",
              "    }\n",
              "\n",
              "    [theme=dark] .colab-df-convert {\n",
              "      background-color: #3B4455;\n",
              "      fill: #D2E3FC;\n",
              "    }\n",
              "\n",
              "    [theme=dark] .colab-df-convert:hover {\n",
              "      background-color: #434B5C;\n",
              "      box-shadow: 0px 1px 3px 1px rgba(0, 0, 0, 0.15);\n",
              "      filter: drop-shadow(0px 1px 2px rgba(0, 0, 0, 0.3));\n",
              "      fill: #FFFFFF;\n",
              "    }\n",
              "  </style>\n",
              "\n",
              "      <script>\n",
              "        const buttonEl =\n",
              "          document.querySelector('#df-89f23026-d634-446b-ac64-269daba548c7 button.colab-df-convert');\n",
              "        buttonEl.style.display =\n",
              "          google.colab.kernel.accessAllowed ? 'block' : 'none';\n",
              "\n",
              "        async function convertToInteractive(key) {\n",
              "          const element = document.querySelector('#df-89f23026-d634-446b-ac64-269daba548c7');\n",
              "          const dataTable =\n",
              "            await google.colab.kernel.invokeFunction('convertToInteractive',\n",
              "                                                     [key], {});\n",
              "          if (!dataTable) return;\n",
              "\n",
              "          const docLinkHtml = 'Like what you see? Visit the ' +\n",
              "            '<a target=\"_blank\" href=https://colab.research.google.com/notebooks/data_table.ipynb>data table notebook</a>'\n",
              "            + ' to learn more about interactive tables.';\n",
              "          element.innerHTML = '';\n",
              "          dataTable['output_type'] = 'display_data';\n",
              "          await google.colab.output.renderOutput(dataTable, element);\n",
              "          const docLink = document.createElement('div');\n",
              "          docLink.innerHTML = docLinkHtml;\n",
              "          element.appendChild(docLink);\n",
              "        }\n",
              "      </script>\n",
              "    </div>\n",
              "  </div>\n",
              "  "
            ],
            "text/plain": [
              "   Id  Predicted\n",
              "0   1   0.050062\n",
              "1   4   0.888402\n",
              "2   5   0.132097\n",
              "3  11   0.860530\n",
              "4  18   0.390431"
            ]
          },
          "metadata": {},
          "execution_count": 30
        }
      ],
      "source": [
        "y_tst_lr = lr_mdl.predict_proba(X_test)\n",
        "\n",
        "dset_sol_lr = pd.DataFrame({\"Id\": dset_tst.Id, \"Predicted\" : y_tst_lr[:,1]})\n",
        "dset_sol_lr.head()"
      ]
    },
    {
      "cell_type": "markdown",
      "metadata": {
        "id": "QDwfpgIFUkQx"
      },
      "source": [
        "We save the data using the CSV file format:"
      ]
    },
    {
      "cell_type": "code",
      "execution_count": null,
      "metadata": {
        "id": "UCrpzj6rUkQx"
      },
      "outputs": [],
      "source": [
        "dset_sol_lr.to_csv(\"pima_sol_lr.csv\", index=False)"
      ]
    },
    {
      "cell_type": "markdown",
      "metadata": {
        "id": "uTPkvpMzUkQx"
      },
      "source": [
        "## Support Vector Machines (SVM):\n",
        "\n",
        "SVMs are implemented in `sklearn` with the classes `SVC` and `SVR`, for classification and regression, respectively. The `SVC()` function can be used to fit a *support vector classifier* (linear SVM) when the argument `kernel=\"linear\"` is used. The `c` argument allows us to specify the cost of a violation to the margin. When the `c` argument is **small**, then the margins will be wide and many support vectors will be on the margin or will violate the margin. When the `c` argument is large, then the margins will be narrow and there will be few support vectors on the margin or violating the margin.\n",
        "\n",
        "We can use the `SVC()` function to fit the support vector classifier for a given value of the `cost` parameter as follows:"
      ]
    },
    {
      "cell_type": "code",
      "execution_count": null,
      "metadata": {
        "colab": {
          "base_uri": "https://localhost:8080/"
        },
        "id": "tI6knb_7UkQx",
        "outputId": "a3c449b8-c0b0-4bb6-adc3-82d44b6d390e"
      },
      "outputs": [
        {
          "output_type": "execute_result",
          "data": {
            "text/plain": [
              "SVC(C=1, kernel='linear')"
            ]
          },
          "metadata": {},
          "execution_count": 33
        }
      ],
      "source": [
        "from sklearn.svm import SVC\n",
        "\n",
        "svc = SVC(C=1, kernel='linear')\n",
        "svc.fit(X_train, y_train)"
      ]
    },
    {
      "cell_type": "markdown",
      "metadata": {
        "id": "g0CHO1fyUkQy"
      },
      "source": [
        "Again, we use `fit` to train the model. In the above case, we assumed fixed hyperparameter values. \n",
        "\n",
        "The `sklearn.grid_search` module includes the class `GridSearchCV` to use the *grid search* strategy for hyperparameter tuning. It performs cross-validation or any other resampling method. For instance, the following code implements hyperparameter tuning using a grid search to find an optimal value for the cost `c`:\n"
      ]
    },
    {
      "cell_type": "code",
      "execution_count": null,
      "metadata": {
        "colab": {
          "base_uri": "https://localhost:8080/"
        },
        "id": "6O9bpWl0UkQy",
        "outputId": "8892329a-87ae-40e2-d7c7-31a1838cdfbf"
      },
      "outputs": [
        {
          "output_type": "execute_result",
          "data": {
            "text/plain": [
              "GridSearchCV(cv=10, estimator=SVC(kernel='linear', probability=True),\n",
              "             param_grid=[{'C': [0.001, 0.01, 0.1, 1, 5, 10, 100]}],\n",
              "             scoring='roc_auc')"
            ]
          },
          "metadata": {},
          "execution_count": 34
        }
      ],
      "source": [
        "from sklearn.model_selection import GridSearchCV\n",
        "\n",
        "# Select the optimal C parameter by cross-validation\n",
        "tuned_parameters = [{'C': [0.001, 0.01, 0.1, 1, 5, 10, 100]}]\n",
        "svc = GridSearchCV(SVC(kernel='linear',probability=True), tuned_parameters, cv=10, scoring='roc_auc')\n",
        "svc.fit(X_train, y_train)"
      ]
    },
    {
      "cell_type": "markdown",
      "metadata": {
        "id": "j0jjjRBOUkQy"
      },
      "source": [
        "We can easily access the cross-validation errors for each of these models:"
      ]
    },
    {
      "cell_type": "code",
      "execution_count": null,
      "metadata": {
        "colab": {
          "base_uri": "https://localhost:8080/"
        },
        "id": "g9-PRrbxUkQy",
        "outputId": "8633bb87-4fa9-4acd-e811-43a96ac4e5f0"
      },
      "outputs": [
        {
          "output_type": "execute_result",
          "data": {
            "text/plain": [
              "{'mean_fit_time': array([0.02496965, 0.02365448, 0.02428138, 0.03492167, 0.07159429,\n",
              "        0.11784496, 0.73245852]),\n",
              " 'mean_score_time': array([0.00214601, 0.00202584, 0.00193896, 0.00195456, 0.00205903,\n",
              "        0.00190654, 0.00213878]),\n",
              " 'mean_test_score': array([0.82525874, 0.82785935, 0.82820433, 0.82775763, 0.82794781,\n",
              "        0.82779743, 0.82764706]),\n",
              " 'param_C': masked_array(data=[0.001, 0.01, 0.1, 1, 5, 10, 100],\n",
              "              mask=[False, False, False, False, False, False, False],\n",
              "        fill_value='?',\n",
              "             dtype=object),\n",
              " 'params': [{'C': 0.001},\n",
              "  {'C': 0.01},\n",
              "  {'C': 0.1},\n",
              "  {'C': 1},\n",
              "  {'C': 5},\n",
              "  {'C': 10},\n",
              "  {'C': 100}],\n",
              " 'rank_test_score': array([7, 3, 1, 5, 2, 4, 6], dtype=int32),\n",
              " 'split0_test_score': array([0.81052632, 0.80150376, 0.80150376, 0.80300752, 0.80150376,\n",
              "        0.80150376, 0.80150376]),\n",
              " 'split1_test_score': array([0.85413534, 0.84661654, 0.8556391 , 0.85864662, 0.85864662,\n",
              "        0.85864662, 0.85864662]),\n",
              " 'split2_test_score': array([0.79849624, 0.81052632, 0.80902256, 0.81203008, 0.8075188 ,\n",
              "        0.8075188 , 0.8075188 ]),\n",
              " 'split3_test_score': array([0.82857143, 0.82556391, 0.81203008, 0.81052632, 0.81052632,\n",
              "        0.81052632, 0.81052632]),\n",
              " 'split4_test_score': array([0.83609023, 0.84962406, 0.84661654, 0.84360902, 0.84360902,\n",
              "        0.84360902, 0.84360902]),\n",
              " 'split5_test_score': array([0.76842105, 0.78646617, 0.80601504, 0.79548872, 0.79548872,\n",
              "        0.79699248, 0.79548872]),\n",
              " 'split6_test_score': array([0.77894737, 0.76842105, 0.76240602, 0.7593985 , 0.7593985 ,\n",
              "        0.7593985 , 0.7593985 ]),\n",
              " 'split7_test_score': array([0.84210526, 0.83909774, 0.82255639, 0.82706767, 0.82105263,\n",
              "        0.81804511, 0.81804511]),\n",
              " 'split8_test_score': array([0.80804954, 0.81578947, 0.82198142, 0.82043344, 0.83126935,\n",
              "        0.83126935, 0.83126935]),\n",
              " 'split9_test_score': array([0.92724458, 0.93498452, 0.94427245, 0.94736842, 0.9504644 ,\n",
              "        0.9504644 , 0.9504644 ]),\n",
              " 'std_fit_time': array([0.00160849, 0.00088172, 0.00446015, 0.00142702, 0.00152172,\n",
              "        0.01202715, 0.07566864]),\n",
              " 'std_score_time': array([1.48763526e-04, 8.76780232e-05, 7.34262030e-05, 1.04000797e-04,\n",
              "        2.30695271e-04, 2.32470219e-05, 3.87043320e-04]),\n",
              " 'std_test_score': array([0.04272209, 0.04338196, 0.04560522, 0.04736808, 0.04840384,\n",
              "        0.04835727, 0.04845507])}"
            ]
          },
          "metadata": {},
          "execution_count": 35
        }
      ],
      "source": [
        "svc.cv_results_"
      ]
    },
    {
      "cell_type": "markdown",
      "metadata": {
        "id": "Aa2vh-3aUkQy"
      },
      "source": [
        "The `GridSearchCV()` function stores the best parameters obtained, which can be accessed as follows:"
      ]
    },
    {
      "cell_type": "code",
      "execution_count": null,
      "metadata": {
        "colab": {
          "base_uri": "https://localhost:8080/"
        },
        "id": "MUpEHsCfUkQz",
        "outputId": "5f2fe0a0-db29-4c8a-8200-fb53ec194bea"
      },
      "outputs": [
        {
          "output_type": "execute_result",
          "data": {
            "text/plain": [
              "{'C': 0.1}"
            ]
          },
          "metadata": {},
          "execution_count": 36
        }
      ],
      "source": [
        "svc.best_params_"
      ]
    },
    {
      "cell_type": "markdown",
      "metadata": {
        "id": "Esz-HzufUkQz"
      },
      "source": [
        "Similarly to the logistic regression model, we can easily produce a prediction file that contains the predicted probabilities on the test set:"
      ]
    },
    {
      "cell_type": "code",
      "execution_count": null,
      "metadata": {
        "id": "i3L1kKmwUkQz"
      },
      "outputs": [],
      "source": [
        "y_tst_svc = svc.predict_proba(X_test)\n",
        "\n",
        "dset_sol_svc = pd.DataFrame({\"Id\": dset_tst.Id, \"Predicted\" : y_tst_svc[:,1]})\n",
        "dset_sol_svc.to_csv(\"pima_sol_svc_linear.csv\", index=False)\n"
      ]
    },
    {
      "cell_type": "markdown",
      "metadata": {
        "id": "d8DvnDEUUkQz"
      },
      "source": [
        "\n",
        "\n",
        "We can also build a SVM (non-linear) using a non-linear kernel function such as polynomial and radial basis functions (RBF). To fit an SVM with a polynomial kernel we use `kernel=\"poly\"`, and to fit an SVM with a radial kernel we use `kernel=\"rbf\"`. In the former case we also use the `degree` argument to specify a degree for the polynomial kernel, and in the latter case we use `gamma` to specify a value of $\\gamma$ for the radial basis kernel. \n",
        "\n",
        "As before, we can use perform a grid search to tune the hyperparameters (such as kernel type, degree, $\\gamma$, cost, etc)"
      ]
    },
    {
      "cell_type": "code",
      "execution_count": null,
      "metadata": {
        "id": "zWUWzWXdUkQ0"
      },
      "outputs": [],
      "source": [
        "svm_hyp_grid = [\n",
        "    {'C': [0.1, 1, 10, 100], 'kernel': ['linear']},\n",
        "    {'C': [0.1, 1, 10, 100], 'degree': [2, 4, 8], 'kernel': ['poly']},\n",
        "    {'C': [0.1, 1, 10, 100], 'gamma': [0.01, 0.1, 0.5, 1, 100], 'kernel': ['rbf']}\n",
        "]\n",
        "\n",
        "mdls_svm = GridSearchCV(SVC(probability=True), param_grid=svm_hyp_grid, cv=5, scoring='roc_auc').fit(X_train, y_train)"
      ]
    },
    {
      "cell_type": "markdown",
      "metadata": {
        "id": "xDZB3rpZUkQ0"
      },
      "source": [
        "So, the best set of hyperparameters is:"
      ]
    },
    {
      "cell_type": "code",
      "execution_count": null,
      "metadata": {
        "colab": {
          "base_uri": "https://localhost:8080/"
        },
        "id": "_o5xP1zWUkQ0",
        "outputId": "74fabc2e-2559-4c45-da1c-f171d8c95aac"
      },
      "outputs": [
        {
          "output_type": "execute_result",
          "data": {
            "text/plain": [
              "{'C': 10, 'gamma': 0.01, 'kernel': 'rbf'}"
            ]
          },
          "metadata": {},
          "execution_count": 39
        }
      ],
      "source": [
        "mdls_svm.best_params_"
      ]
    },
    {
      "cell_type": "markdown",
      "metadata": {
        "id": "_VZ_1IzkUkQ0"
      },
      "source": [
        "Using a similar code as before, we produce a new prediction file:"
      ]
    },
    {
      "cell_type": "code",
      "execution_count": null,
      "metadata": {
        "id": "cTi2HxKhUkQ0"
      },
      "outputs": [],
      "source": [
        "y_tst_svm = mdls_svm.predict_proba(X_test)\n",
        "\n",
        "dset_sol_svm = pd.DataFrame({\"Id\": dset_tst.Id, \"Predicted\" : y_tst_svm[:,1]})\n",
        "dset_sol_svm.to_csv(\"pima_sol_svm.csv\", index=False)\n"
      ]
    },
    {
      "cell_type": "markdown",
      "metadata": {
        "id": "q6S2Xtr0UkQ1"
      },
      "source": [
        "If, instead of performing a grid search, a random search is what we want, the code would be very similar. Instead of using `GridSearchCV`, we should use `RandomizedSearchCV`. More details here: https://scikit-learn.org/stable/modules/grid_search.html.\n",
        "\n",
        "## Random Forest (RF) and Gradient Boosting Machines (GBM):\n",
        "\n",
        "RF and GBM are available in `sklearn.ensemble`. The work with them is similar to SVM (and most of the ML algorithms implemented in Scikit-learn). RF is implemented with the class `RandomForestClassifier` whilst GBM, with `GradientBoostingClassifier`. Both methods have several hyperparameters that we might want to tune. Typically, we tune the following RF hyperparameters:\n",
        "\n",
        "* `max_features` - The number of features to consider when looking for the best split.\n",
        "* `min_samples_leaf` - The minimum number of samples required to be at a leaf node.\n",
        "\n",
        "and the following GBM hyperparameters:\n",
        "\n",
        "* `learning_rate`- Learning rate shrinks the contribution of each tree by learning_rate.\n",
        "* `min_samples_split` - The minimum number of samples required to split an internal node\n",
        "\n",
        "For more details about `RandomForestClassifier` and `GradientBoostingClassifier` visit: https://scikit-learn.org/stable/modules/generated/sklearn.ensemble.RandomForestClassifier.html and https://scikit-learn.org/stable/modules/generated/sklearn.ensemble.GradientBoostingClassifier.html.\n",
        "\n",
        "Let's have a look at the code for an RF model:"
      ]
    },
    {
      "cell_type": "code",
      "execution_count": null,
      "metadata": {
        "colab": {
          "base_uri": "https://localhost:8080/"
        },
        "id": "c5LKF-MuUkQ1",
        "outputId": "1fe589e0-da9f-4036-a3ab-d70d4ea2f61c"
      },
      "outputs": [
        {
          "output_type": "execute_result",
          "data": {
            "text/plain": [
              "{'max_features': 0.9, 'min_samples_leaf': 12}"
            ]
          },
          "metadata": {},
          "execution_count": 55
        }
      ],
      "source": [
        "from sklearn.ensemble import RandomForestClassifier\n",
        "\n",
        "rf_hyp_grid = {'max_features':[0.1, 0.3, 0.5, 0.7, 0.9],\n",
        "               'min_samples_leaf':range(3,18,3)}\n",
        "               \n",
        "mdl_rf = GridSearchCV(RandomForestClassifier(), param_grid=rf_hyp_grid, cv=5, scoring='roc_auc').fit(X_train, y_train)\n",
        "mdl_rf.best_params_"
      ]
    },
    {
      "cell_type": "markdown",
      "metadata": {
        "id": "5gmGHnQbUkQ1"
      },
      "source": [
        "Now, we produce the prediction file:"
      ]
    },
    {
      "cell_type": "code",
      "execution_count": null,
      "metadata": {
        "colab": {
          "base_uri": "https://localhost:8080/",
          "height": 345
        },
        "id": "sQpmrI1jUkQ1",
        "outputId": "466d863b-15ab-41e4-f364-8093ef974187"
      },
      "outputs": [
        {
          "output_type": "error",
          "ename": "FileNotFoundError",
          "evalue": "ignored",
          "traceback": [
            "\u001b[0;31m---------------------------------------------------------------------------\u001b[0m",
            "\u001b[0;31mFileNotFoundError\u001b[0m                         Traceback (most recent call last)",
            "\u001b[0;32m<ipython-input-59-7ee69bd81741>\u001b[0m in \u001b[0;36m<module>\u001b[0;34m()\u001b[0m\n\u001b[1;32m      2\u001b[0m \u001b[0;34m\u001b[0m\u001b[0m\n\u001b[1;32m      3\u001b[0m \u001b[0mdset_sol_rf\u001b[0m \u001b[0;34m=\u001b[0m \u001b[0mpd\u001b[0m\u001b[0;34m.\u001b[0m\u001b[0mDataFrame\u001b[0m\u001b[0;34m(\u001b[0m\u001b[0;34m{\u001b[0m\u001b[0;34m\"Id\"\u001b[0m\u001b[0;34m:\u001b[0m \u001b[0mdset_tst\u001b[0m\u001b[0;34m.\u001b[0m\u001b[0mId\u001b[0m\u001b[0;34m,\u001b[0m \u001b[0;34m\"Predicted\"\u001b[0m \u001b[0;34m:\u001b[0m \u001b[0my_tst_rf\u001b[0m\u001b[0;34m[\u001b[0m\u001b[0;34m:\u001b[0m\u001b[0;34m,\u001b[0m\u001b[0;36m1\u001b[0m\u001b[0;34m]\u001b[0m\u001b[0;34m}\u001b[0m\u001b[0;34m)\u001b[0m\u001b[0;34m\u001b[0m\u001b[0;34m\u001b[0m\u001b[0m\n\u001b[0;32m----> 4\u001b[0;31m \u001b[0mdset_sol_rf\u001b[0m\u001b[0;34m.\u001b[0m\u001b[0mto_csv\u001b[0m\u001b[0;34m(\u001b[0m\u001b[0;34m\"/drive/My Drive/pima_sol_rf.csv\"\u001b[0m\u001b[0;34m,\u001b[0m \u001b[0mindex\u001b[0m\u001b[0;34m=\u001b[0m\u001b[0;32mFalse\u001b[0m\u001b[0;34m)\u001b[0m\u001b[0;34m\u001b[0m\u001b[0;34m\u001b[0m\u001b[0m\n\u001b[0m",
            "\u001b[0;32m/usr/local/lib/python3.7/dist-packages/pandas/core/generic.py\u001b[0m in \u001b[0;36mto_csv\u001b[0;34m(self, path_or_buf, sep, na_rep, float_format, columns, header, index, index_label, mode, encoding, compression, quoting, quotechar, line_terminator, chunksize, date_format, doublequote, escapechar, decimal, errors, storage_options)\u001b[0m\n\u001b[1;32m   3480\u001b[0m             \u001b[0mdoublequote\u001b[0m\u001b[0;34m=\u001b[0m\u001b[0mdoublequote\u001b[0m\u001b[0;34m,\u001b[0m\u001b[0;34m\u001b[0m\u001b[0;34m\u001b[0m\u001b[0m\n\u001b[1;32m   3481\u001b[0m             \u001b[0mescapechar\u001b[0m\u001b[0;34m=\u001b[0m\u001b[0mescapechar\u001b[0m\u001b[0;34m,\u001b[0m\u001b[0;34m\u001b[0m\u001b[0;34m\u001b[0m\u001b[0m\n\u001b[0;32m-> 3482\u001b[0;31m             \u001b[0mstorage_options\u001b[0m\u001b[0;34m=\u001b[0m\u001b[0mstorage_options\u001b[0m\u001b[0;34m,\u001b[0m\u001b[0;34m\u001b[0m\u001b[0;34m\u001b[0m\u001b[0m\n\u001b[0m\u001b[1;32m   3483\u001b[0m         )\n\u001b[1;32m   3484\u001b[0m \u001b[0;34m\u001b[0m\u001b[0m\n",
            "\u001b[0;32m/usr/local/lib/python3.7/dist-packages/pandas/io/formats/format.py\u001b[0m in \u001b[0;36mto_csv\u001b[0;34m(self, path_or_buf, encoding, sep, columns, index_label, mode, compression, quoting, quotechar, line_terminator, chunksize, date_format, doublequote, escapechar, errors, storage_options)\u001b[0m\n\u001b[1;32m   1103\u001b[0m             \u001b[0mformatter\u001b[0m\u001b[0;34m=\u001b[0m\u001b[0mself\u001b[0m\u001b[0;34m.\u001b[0m\u001b[0mfmt\u001b[0m\u001b[0;34m,\u001b[0m\u001b[0;34m\u001b[0m\u001b[0;34m\u001b[0m\u001b[0m\n\u001b[1;32m   1104\u001b[0m         )\n\u001b[0;32m-> 1105\u001b[0;31m         \u001b[0mcsv_formatter\u001b[0m\u001b[0;34m.\u001b[0m\u001b[0msave\u001b[0m\u001b[0;34m(\u001b[0m\u001b[0;34m)\u001b[0m\u001b[0;34m\u001b[0m\u001b[0;34m\u001b[0m\u001b[0m\n\u001b[0m\u001b[1;32m   1106\u001b[0m \u001b[0;34m\u001b[0m\u001b[0m\n\u001b[1;32m   1107\u001b[0m         \u001b[0;32mif\u001b[0m \u001b[0mcreated_buffer\u001b[0m\u001b[0;34m:\u001b[0m\u001b[0;34m\u001b[0m\u001b[0;34m\u001b[0m\u001b[0m\n",
            "\u001b[0;32m/usr/local/lib/python3.7/dist-packages/pandas/io/formats/csvs.py\u001b[0m in \u001b[0;36msave\u001b[0;34m(self)\u001b[0m\n\u001b[1;32m    241\u001b[0m             \u001b[0merrors\u001b[0m\u001b[0;34m=\u001b[0m\u001b[0mself\u001b[0m\u001b[0;34m.\u001b[0m\u001b[0merrors\u001b[0m\u001b[0;34m,\u001b[0m\u001b[0;34m\u001b[0m\u001b[0;34m\u001b[0m\u001b[0m\n\u001b[1;32m    242\u001b[0m             \u001b[0mcompression\u001b[0m\u001b[0;34m=\u001b[0m\u001b[0mself\u001b[0m\u001b[0;34m.\u001b[0m\u001b[0mcompression\u001b[0m\u001b[0;34m,\u001b[0m\u001b[0;34m\u001b[0m\u001b[0;34m\u001b[0m\u001b[0m\n\u001b[0;32m--> 243\u001b[0;31m             \u001b[0mstorage_options\u001b[0m\u001b[0;34m=\u001b[0m\u001b[0mself\u001b[0m\u001b[0;34m.\u001b[0m\u001b[0mstorage_options\u001b[0m\u001b[0;34m,\u001b[0m\u001b[0;34m\u001b[0m\u001b[0;34m\u001b[0m\u001b[0m\n\u001b[0m\u001b[1;32m    244\u001b[0m         ) as handles:\n\u001b[1;32m    245\u001b[0m \u001b[0;34m\u001b[0m\u001b[0m\n",
            "\u001b[0;32m/usr/local/lib/python3.7/dist-packages/pandas/io/common.py\u001b[0m in \u001b[0;36mget_handle\u001b[0;34m(path_or_buf, mode, encoding, compression, memory_map, is_text, errors, storage_options)\u001b[0m\n\u001b[1;32m    705\u001b[0m                 \u001b[0mencoding\u001b[0m\u001b[0;34m=\u001b[0m\u001b[0mioargs\u001b[0m\u001b[0;34m.\u001b[0m\u001b[0mencoding\u001b[0m\u001b[0;34m,\u001b[0m\u001b[0;34m\u001b[0m\u001b[0;34m\u001b[0m\u001b[0m\n\u001b[1;32m    706\u001b[0m                 \u001b[0merrors\u001b[0m\u001b[0;34m=\u001b[0m\u001b[0merrors\u001b[0m\u001b[0;34m,\u001b[0m\u001b[0;34m\u001b[0m\u001b[0;34m\u001b[0m\u001b[0m\n\u001b[0;32m--> 707\u001b[0;31m                 \u001b[0mnewline\u001b[0m\u001b[0;34m=\u001b[0m\u001b[0;34m\"\"\u001b[0m\u001b[0;34m,\u001b[0m\u001b[0;34m\u001b[0m\u001b[0;34m\u001b[0m\u001b[0m\n\u001b[0m\u001b[1;32m    708\u001b[0m             )\n\u001b[1;32m    709\u001b[0m         \u001b[0;32melse\u001b[0m\u001b[0;34m:\u001b[0m\u001b[0;34m\u001b[0m\u001b[0;34m\u001b[0m\u001b[0m\n",
            "\u001b[0;31mFileNotFoundError\u001b[0m: [Errno 2] No such file or directory: '/drive/My Drive/pima_sol_rf.csv'"
          ]
        }
      ],
      "source": [
        "y_tst_rf = mdl_rf.predict_proba(X_test)\n",
        "\n",
        "dset_sol_rf = pd.DataFrame({\"Id\": dset_tst.Id, \"Predicted\" : y_tst_rf[:,1]})\n",
        "dset_sol_rf.to_csv(\"/drive/My Drive/pima_sol_rf.csv\", index=False)"
      ]
    },
    {
      "cell_type": "code",
      "source": [
        ""
      ],
      "metadata": {
        "id": "OvuLpWBIv8pw"
      },
      "execution_count": null,
      "outputs": []
    },
    {
      "cell_type": "markdown",
      "metadata": {
        "id": "ZTIHWy_yUkQ2"
      },
      "source": [
        "Now, it is the turn for GBM:"
      ]
    },
    {
      "cell_type": "code",
      "execution_count": null,
      "metadata": {
        "colab": {
          "base_uri": "https://localhost:8080/"
        },
        "id": "le_vmQfMUkQ2",
        "outputId": "50d8d9b6-9bdf-4ebe-96ea-71c52cf3bde1"
      },
      "outputs": [
        {
          "output_type": "execute_result",
          "data": {
            "text/plain": [
              "{'learning_rate': 0.1, 'min_samples_split': 15}"
            ]
          },
          "metadata": {},
          "execution_count": 57
        }
      ],
      "source": [
        "from sklearn.ensemble import GradientBoostingClassifier\n",
        "\n",
        "gbm_hyp_grid = {'learning_rate':[0.001, 0.01, 0.1, 0.5],\n",
        "               'min_samples_split':range(3,18,3)}\n",
        "               \n",
        "mdl_gbm = GridSearchCV(GradientBoostingClassifier(), param_grid=gbm_hyp_grid, cv=5, scoring='roc_auc').fit(X_train, y_train)\n",
        "mdl_gbm.best_params_"
      ]
    },
    {
      "cell_type": "markdown",
      "metadata": {
        "id": "3yi0oW0dUkQ2"
      },
      "source": [
        "... and it prediction file:"
      ]
    },
    {
      "cell_type": "code",
      "execution_count": null,
      "metadata": {
        "id": "8XHbIfhBUkQ3"
      },
      "outputs": [],
      "source": [
        "y_tst_gbm = mdl_gbm.predict_proba(X_test)\n",
        "\n",
        "dset_sol_gbm = pd.DataFrame({\"Id\": dset_tst.Id, \"Predicted\" : y_tst_gbm[:,1]})\n",
        "dset_sol_gbm.to_csv(\"pima_sol_gbm.csv\", index=False)"
      ]
    },
    {
      "cell_type": "markdown",
      "metadata": {
        "id": "qU-CYzy3UkQ3"
      },
      "source": [
        "## Kaggle competition\n",
        "\n",
        "Now that you have several prediction files originated from having tested several machine learning algorithms, it is time to see how they perform against the test set. To do this, we will upload them to a new Kaggle competition for this tutorial. The link to the competition is the following:\n",
        "\n",
        "https://www.kaggle.com/c/tutorial-10-competition\n",
        "\n",
        "And the invitation to join the competition is the following link:\n",
        "\n",
        "\n",
        "## Exercise 2\n",
        "* Which model performed the best? Why do you think that model was the best one? Try a wider range of hyperparameter for each algorithm to see whether there is any improvement. Also, you could consider using other ML algorithms (e.g. Neural Networks, Decision Trees, k-NN)"
      ]
    },
    {
      "cell_type": "markdown",
      "metadata": {
        "id": "BoB43shlUkQ3"
      },
      "source": [
        ""
      ]
    }
  ],
  "metadata": {
    "interpreter": {
      "hash": "6a6727ebf54c53e46f82595e76acf15208e779aa3f510f6576b7b139c56f33ff"
    },
    "kernelspec": {
      "display_name": "Python 3 (ipykernel)",
      "language": "python",
      "name": "python3"
    },
    "language_info": {
      "codemirror_mode": {
        "name": "ipython",
        "version": 3
      },
      "file_extension": ".py",
      "mimetype": "text/x-python",
      "name": "python",
      "nbconvert_exporter": "python",
      "pygments_lexer": "ipython3",
      "version": "3.9.7"
    },
    "colab": {
      "name": "tutorial04.ipynb",
      "provenance": []
    }
  },
  "nbformat": 4,
  "nbformat_minor": 0
}