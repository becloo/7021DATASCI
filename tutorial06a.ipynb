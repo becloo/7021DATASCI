{
  "cells": [
    {
      "cell_type": "markdown",
      "metadata": {
        "id": "aXgvTT_gVHys"
      },
      "source": [
        "# Tutorial 06 (part 2): Deep convolutional neural networks in Keras\n",
        "By Dr Ivan Olier-Caparroso, Feb-22\n",
        "\n",
        "## Introduction\n",
        "The aim with this tutorial is to practise how to implement deep convolutional neural networks (CNNs) in Keras, and how to apply them to *Image Analysis*.\n",
        "\n",
        "As in previous tutorial, we should import the required packages first. We don't need to import everything from the beginning, but it is good practice to do it so."
      ]
    },
    {
      "cell_type": "code",
      "execution_count": null,
      "metadata": {
        "id": "AhcXjeyZVHyu"
      },
      "outputs": [],
      "source": [
        "from matplotlib import pyplot as plt\n",
        "import numpy as np\n",
        "%matplotlib inline"
      ]
    },
    {
      "cell_type": "markdown",
      "metadata": {
        "id": "3vEaiLzKVHyv"
      },
      "source": [
        "## Dataset\n",
        "We will use the *MNIST* dataset as previous tutorial. However, in this occassion the images won't be flattened prior to be used in the network, but they will be inputed as they are (images or arrays).\n",
        "* Download the MNIST dataset from Keras as before:"
      ]
    },
    {
      "cell_type": "code",
      "execution_count": null,
      "metadata": {
        "colab": {
          "base_uri": "https://localhost:8080/"
        },
        "id": "EqBk6XKhVHyv",
        "outputId": "8d4f00aa-ff10-4476-8ef8-605e99931ff3"
      },
      "outputs": [
        {
          "output_type": "stream",
          "name": "stdout",
          "text": [
            "Downloading data from https://storage.googleapis.com/tensorflow/tf-keras-datasets/mnist.npz\n",
            "11493376/11490434 [==============================] - 0s 0us/step\n",
            "11501568/11490434 [==============================] - 0s 0us/step\n"
          ]
        }
      ],
      "source": [
        "from tensorflow.keras.datasets import mnist\n",
        "(X_train_img, y_train_img), (X_test_img, y_test_img) = mnist.load_data()"
      ]
    },
    {
      "cell_type": "markdown",
      "metadata": {
        "id": "HYV3EvmlVHyw"
      },
      "source": [
        "* Let's check data dimensions as we will need them to build the network:"
      ]
    },
    {
      "cell_type": "code",
      "execution_count": null,
      "metadata": {
        "colab": {
          "base_uri": "https://localhost:8080/"
        },
        "id": "dLFKaQXsVHyw",
        "outputId": "107990d6-8ffa-433f-c058-da10389596cc"
      },
      "outputs": [
        {
          "output_type": "stream",
          "name": "stdout",
          "text": [
            "X_train_img dimensions:  (60000, 28, 28)\n",
            "y_train_img dimensions:  (60000,)\n",
            "X_test_img dimensions:  (10000, 28, 28)\n",
            "y_test_img dimensions:  (10000,)\n"
          ]
        }
      ],
      "source": [
        "print('X_train_img dimensions: ', X_train_img.shape)\n",
        "print('y_train_img dimensions: ', y_train_img.shape)\n",
        "print('X_test_img dimensions: ', X_test_img.shape)\n",
        "print('y_test_img dimensions: ', y_test_img.shape)"
      ]
    },
    {
      "cell_type": "markdown",
      "metadata": {
        "id": "jBf3QNFFVHyw"
      },
      "source": [
        "MNIST images are all pre-aligned (e.g. each image only contains a hand-drawn digit). In addition, the images all have the same square size of 28×28 pixels, and all are greyscale.\n",
        "\n",
        "CNN models (2D-CNNs, more precisely) takes 4D arrays as inputs: samples, 2D image coordinates, and channels. Colour RGB images have 3 channels (Red, Green and Blue), whilst greyscale images, 1 channel only. Therefore, we must reshape the data arrays to have a single channel:"
      ]
    },
    {
      "cell_type": "code",
      "execution_count": null,
      "metadata": {
        "colab": {
          "base_uri": "https://localhost:8080/"
        },
        "id": "rfXg7t6mVHy3",
        "outputId": "03bc8d20-3bff-4b57-de43-d159c9743b79"
      },
      "outputs": [
        {
          "output_type": "stream",
          "name": "stdout",
          "text": [
            "X_train dimensions:  (60000, 28, 28, 1)\n",
            "X_test dimensions:  (10000, 28, 28, 1)\n"
          ]
        }
      ],
      "source": [
        "X_train = X_train_img.reshape((X_train_img.shape[0], 28, 28, 1))\n",
        "X_test = X_test_img.reshape((X_test_img.shape[0], 28, 28, 1))\n",
        "print('X_train dimensions: ', X_train.shape)\n",
        "print('X_test dimensions: ', X_test.shape)"
      ]
    },
    {
      "cell_type": "markdown",
      "metadata": {
        "id": "qPK51LPOVHy3"
      },
      "source": [
        "Classes in `y_train` and `y_test` are represented as unique integers: $0\\ldots9$. We can, therefore, use a one hot encoding for the class element of each sample, transforming the integer into a 10 element binary vector with a 1 for the index of the class value, and 0 values for all other classes. We can achieve this with the `to_categorical()` utility function:"
      ]
    },
    {
      "cell_type": "code",
      "execution_count": null,
      "metadata": {
        "colab": {
          "base_uri": "https://localhost:8080/"
        },
        "id": "I9hzhLkNVHy3",
        "outputId": "b135b457-8e91-4612-9b49-ce8495981162"
      },
      "outputs": [
        {
          "output_type": "execute_result",
          "data": {
            "text/plain": [
              "array([[0., 0., 0., 0., 0., 1., 0., 0., 0., 0.],\n",
              "       [1., 0., 0., 0., 0., 0., 0., 0., 0., 0.],\n",
              "       [0., 0., 0., 0., 1., 0., 0., 0., 0., 0.],\n",
              "       [0., 1., 0., 0., 0., 0., 0., 0., 0., 0.],\n",
              "       [0., 0., 0., 0., 0., 0., 0., 0., 0., 1.]], dtype=float32)"
            ]
          },
          "metadata": {},
          "execution_count": 5
        }
      ],
      "source": [
        "from tensorflow.keras.utils import to_categorical\n",
        "y_train = to_categorical(y_train_img)\n",
        "y_test = to_categorical(y_test_img)\n",
        "y_train[0:5,]"
      ]
    },
    {
      "cell_type": "markdown",
      "metadata": {
        "id": "gERK1Y78VHy4"
      },
      "source": [
        "Now, we should proceed with the data normalisation. As we know pixel values should go from 0 to 255, sacaling the data requires dividing the arrays by 255. The data values are integers, therfore we must convert to reals first."
      ]
    },
    {
      "cell_type": "code",
      "execution_count": null,
      "metadata": {
        "id": "CPBj46HLVHy4"
      },
      "outputs": [],
      "source": [
        "X_train = X_train.astype('float32')\n",
        "X_test = X_test.astype('float32')\n",
        "X_train /= 255\n",
        "X_test /= 255"
      ]
    },
    {
      "cell_type": "markdown",
      "metadata": {
        "id": "hpszRla2VHy4"
      },
      "source": [
        "## Building the model\n",
        "\n",
        "Now, we will build three CNN models and see how their performances are affected:"
      ]
    },
    {
      "cell_type": "code",
      "execution_count": null,
      "metadata": {
        "id": "GNBVpRhAVHy5"
      },
      "outputs": [],
      "source": [
        "from tensorflow.keras import Sequential\n",
        "from tensorflow.keras.layers import Dense\n",
        "from tensorflow.keras.layers import Conv2D\n",
        "from tensorflow.keras.layers import MaxPool2D\n",
        "from tensorflow.keras.layers import Flatten"
      ]
    },
    {
      "cell_type": "code",
      "execution_count": null,
      "metadata": {
        "colab": {
          "base_uri": "https://localhost:8080/"
        },
        "id": "C6_q6I5HVHy5",
        "outputId": "8684f0ed-56d2-4ac9-88f3-eb61d4e525fa"
      },
      "outputs": [
        {
          "output_type": "stream",
          "name": "stdout",
          "text": [
            "Model: \"sequential\"\n",
            "_________________________________________________________________\n",
            " Layer (type)                Output Shape              Param #   \n",
            "=================================================================\n",
            " conv2d (Conv2D)             (None, 26, 26, 32)        320       \n",
            "                                                                 \n",
            " max_pooling2d (MaxPooling2D  (None, 13, 13, 32)       0         \n",
            " )                                                               \n",
            "                                                                 \n",
            " flatten (Flatten)           (None, 5408)              0         \n",
            "                                                                 \n",
            " dense (Dense)               (None, 512)               2769408   \n",
            "                                                                 \n",
            " dense_1 (Dense)             (None, 10)                5130      \n",
            "                                                                 \n",
            "=================================================================\n",
            "Total params: 2,774,858\n",
            "Trainable params: 2,774,858\n",
            "Non-trainable params: 0\n",
            "_________________________________________________________________\n"
          ]
        }
      ],
      "source": [
        "model1 = Sequential()\n",
        "model1.add(Conv2D(filters=32, kernel_size=(3,3), activation='relu', input_shape=(28,28,1)))\n",
        "model1.add(MaxPool2D((2,2)))\n",
        "model1.add(Flatten())\n",
        "model1.add(Dense(512, activation='relu'))\n",
        "model1.add(Dense(10, activation='softmax'))\n",
        "model1.summary()"
      ]
    },
    {
      "cell_type": "markdown",
      "metadata": {
        "id": "WkefD_7OVHy5"
      },
      "source": [
        "We design the compiler similarly to prior models."
      ]
    },
    {
      "cell_type": "code",
      "execution_count": null,
      "metadata": {
        "id": "W_feEFuuVHy5"
      },
      "outputs": [],
      "source": [
        "model1.compile(loss='categorical_crossentropy', metrics=['accuracy'], optimizer='adam')"
      ]
    },
    {
      "cell_type": "markdown",
      "metadata": {
        "id": "lb7DiUjLVHy6"
      },
      "source": [
        "Now, we have an architecture ready for training. THerefore, we can proceed with training the model:"
      ]
    },
    {
      "cell_type": "code",
      "execution_count": null,
      "metadata": {
        "colab": {
          "base_uri": "https://localhost:8080/"
        },
        "id": "AQBY2oN4VHy6",
        "outputId": "0dc7f00c-1441-4ec0-c45c-cfb0db45e296"
      },
      "outputs": [
        {
          "output_type": "stream",
          "name": "stdout",
          "text": [
            "Epoch 1/10\n",
            "375/375 - 38s - loss: 0.1983 - accuracy: 0.9424 - val_loss: 0.0750 - val_accuracy: 0.9778 - 38s/epoch - 102ms/step\n",
            "Epoch 2/10\n",
            "375/375 - 37s - loss: 0.0580 - accuracy: 0.9828 - val_loss: 0.0617 - val_accuracy: 0.9816 - 37s/epoch - 99ms/step\n",
            "Epoch 3/10\n",
            "375/375 - 37s - loss: 0.0353 - accuracy: 0.9890 - val_loss: 0.0582 - val_accuracy: 0.9830 - 37s/epoch - 99ms/step\n",
            "Epoch 4/10\n",
            "375/375 - 39s - loss: 0.0228 - accuracy: 0.9928 - val_loss: 0.0533 - val_accuracy: 0.9841 - 39s/epoch - 103ms/step\n",
            "Epoch 5/10\n",
            "375/375 - 37s - loss: 0.0141 - accuracy: 0.9960 - val_loss: 0.0516 - val_accuracy: 0.9856 - 37s/epoch - 100ms/step\n",
            "Epoch 6/10\n",
            "375/375 - 37s - loss: 0.0101 - accuracy: 0.9972 - val_loss: 0.0530 - val_accuracy: 0.9854 - 37s/epoch - 100ms/step\n",
            "Epoch 7/10\n",
            "375/375 - 37s - loss: 0.0065 - accuracy: 0.9984 - val_loss: 0.0509 - val_accuracy: 0.9862 - 37s/epoch - 100ms/step\n",
            "Epoch 8/10\n",
            "375/375 - 37s - loss: 0.0031 - accuracy: 0.9993 - val_loss: 0.0540 - val_accuracy: 0.9863 - 37s/epoch - 99ms/step\n",
            "Epoch 9/10\n",
            "375/375 - 37s - loss: 0.0051 - accuracy: 0.9984 - val_loss: 0.0703 - val_accuracy: 0.9824 - 37s/epoch - 99ms/step\n",
            "Epoch 10/10\n",
            "375/375 - 37s - loss: 0.0042 - accuracy: 0.9987 - val_loss: 0.0582 - val_accuracy: 0.9868 - 37s/epoch - 99ms/step\n"
          ]
        }
      ],
      "source": [
        "history = model1.fit(X_train, y_train,\n",
        "          batch_size=128, epochs=10,\n",
        "          verbose=2,\n",
        "          validation_split=0.2)"
      ]
    },
    {
      "cell_type": "markdown",
      "metadata": {
        "id": "R45r1MVXVHy6"
      },
      "source": [
        "As before, we can implement a quick function to plot learning curves:"
      ]
    },
    {
      "cell_type": "code",
      "execution_count": null,
      "metadata": {
        "colab": {
          "base_uri": "https://localhost:8080/",
          "height": 280
        },
        "id": "0JDqaxMxVHy6",
        "outputId": "169c2bbc-1e34-4d2f-ce46-10a6eddababf"
      },
      "outputs": [
        {
          "output_type": "display_data",
          "data": {
            "image/png": "[encoded data removed]",
            "text/plain": [
              "<Figure size 432x288 with 2 Axes>"
            ]
          },
          "metadata": {
            "needs_background": "light"
          }
        }
      ],
      "source": [
        "def plot_history(history):\n",
        "    plt.figure()\n",
        "    plt.subplot(2,1,1)\n",
        "    plt.plot(history.history['loss'])\n",
        "    plt.plot(history.history['val_loss'])\n",
        "    plt.ylabel('loss')\n",
        "    plt.xlabel('epoch')\n",
        "    plt.legend(['train', 'validation'])\n",
        "    plt.subplot(2,1,2)\n",
        "    plt.plot(history.history['accuracy'])\n",
        "    plt.plot(history.history['val_accuracy'])\n",
        "    plt.ylabel('accuracy')\n",
        "    plt.xlabel('epoch')\n",
        "    plt.legend(['train', 'validation'])\n",
        "    return;\n",
        "\n",
        "plot_history(history)"
      ]
    },
    {
      "cell_type": "markdown",
      "metadata": {
        "id": "Mh62kIcRVHy6"
      },
      "source": [
        "## Predicting new cases\n",
        "\n",
        "Let's pick few cases from the test subset to see how our new model is performing."
      ]
    },
    {
      "cell_type": "code",
      "execution_count": null,
      "metadata": {
        "colab": {
          "base_uri": "https://localhost:8080/"
        },
        "id": "zowTBHc_VHy7",
        "outputId": "626306e5-3c83-4ce8-b7d2-e79b09533287"
      },
      "outputs": [
        {
          "output_type": "execute_result",
          "data": {
            "text/plain": [
              "array([7, 2, 1, 0, 4, 1, 4, 9, 5])"
            ]
          },
          "metadata": {},
          "execution_count": 12
        }
      ],
      "source": [
        "preds_prob = model1.predict(X_test[0:9,:,:,:])\n",
        "preds_class = np.argmax(preds_prob, axis=1)\n",
        "preds_class"
      ]
    },
    {
      "cell_type": "markdown",
      "metadata": {
        "id": "qG41ZTVzVHy7"
      },
      "source": [
        "We can visualise the results too:"
      ]
    },
    {
      "cell_type": "code",
      "execution_count": null,
      "metadata": {
        "colab": {
          "base_uri": "https://localhost:8080/",
          "height": 284
        },
        "id": "6XgJ_LZLVHy7",
        "outputId": "f7026ded-8a13-481d-eada-d57b81f6b07b"
      },
      "outputs": [
        {
          "output_type": "display_data",
          "data": {
            "image/png": "[encoded data removed]",
            "text/plain": [
              "<Figure size 432x288 with 9 Axes>"
            ]
          },
          "metadata": {}
        }
      ],
      "source": [
        "plt.figure(facecolor='w')\n",
        "for i in range(9):\n",
        "  plt.subplot(3,3,i+1)\n",
        "  plt.tight_layout()\n",
        "  plt.imshow(X_test_img[i], cmap='gray', interpolation='none')\n",
        "  plt.title(\"True:{}, Pred:{}\".format(y_test_img[i],preds_class[i]))\n",
        "  plt.xticks([])\n",
        "  plt.yticks([])"
      ]
    },
    {
      "cell_type": "markdown",
      "metadata": {
        "id": "kX24UzfCVHy7"
      },
      "source": [
        "## Model performance\n",
        "Model performance is estimated similarly to prior models:"
      ]
    },
    {
      "cell_type": "code",
      "execution_count": null,
      "metadata": {
        "colab": {
          "base_uri": "https://localhost:8080/"
        },
        "id": "dY6b4MloVHy7",
        "outputId": "ddecc527-7c49-4a67-93fe-75b584d77d69"
      },
      "outputs": [
        {
          "output_type": "stream",
          "name": "stdout",
          "text": [
            "Test loss model 1: 0.052724797278642654\n",
            "Test accuracy model 1: 0.986299991607666\n",
            "Train loss model 1: 0.014093253761529922\n",
            "Train accuracy model 1: 0.9965999722480774\n"
          ]
        }
      ],
      "source": [
        "test_scores_model1 = model1.evaluate(X_test, y_test, verbose=0)\n",
        "print(\"Test loss model 1:\", test_scores_model1[0])\n",
        "print(\"Test accuracy model 1:\", test_scores_model1[1])\n",
        "train_scores_model1 = model1.evaluate(X_train, y_train, verbose=0)\n",
        "print(\"Train loss model 1:\", train_scores_model1[0])\n",
        "print(\"Train accuracy model 1:\", train_scores_model1[1])"
      ]
    },
    {
      "cell_type": "markdown",
      "metadata": {
        "id": "IxiFjazRVHy8"
      },
      "source": [
        "## Exercise\n",
        "Implement two more CNN models as follows:\n",
        "1. A two convolutional + max pooling layers and a one hidden dense layer model\n",
        "2. Add another dense layer. Consider the use of dropout layers as a way to control for overfitting."
      ]
    },
    {
      "cell_type": "code",
      "execution_count": null,
      "metadata": {
        "colab": {
          "base_uri": "https://localhost:8080/"
        },
        "id": "zLN-SIKcVHy8",
        "outputId": "9a5540db-9878-4c45-d833-acce1167c7f8"
      },
      "outputs": [
        {
          "output_type": "stream",
          "name": "stdout",
          "text": [
            "Model: \"sequential_2\"\n",
            "_________________________________________________________________\n",
            " Layer (type)                Output Shape              Param #   \n",
            "=================================================================\n",
            " conv2d_3 (Conv2D)           (None, 26, 26, 32)        320       \n",
            "                                                                 \n",
            " max_pooling2d_2 (MaxPooling  (None, 13, 13, 32)       0         \n",
            " 2D)                                                             \n",
            "                                                                 \n",
            " conv2d_4 (Conv2D)           (None, 11, 11, 32)        9248      \n",
            "                                                                 \n",
            " max_pooling2d_3 (MaxPooling  (None, 5, 5, 32)         0         \n",
            " 2D)                                                             \n",
            "                                                                 \n",
            " flatten_2 (Flatten)         (None, 800)               0         \n",
            "                                                                 \n",
            " dense_4 (Dense)             (None, 512)               410112    \n",
            "                                                                 \n",
            " dense_5 (Dense)             (None, 10)                5130      \n",
            "                                                                 \n",
            "=================================================================\n",
            "Total params: 424,810\n",
            "Trainable params: 424,810\n",
            "Non-trainable params: 0\n",
            "_________________________________________________________________\n"
          ]
        }
      ],
      "source": [
        "model2 = Sequential()\n",
        "model2.add(Conv2D(filters=32, kernel_size=(3,3), activation='relu', input_shape=(28,28,1)))\n",
        "model2.add(MaxPool2D((2,2)))\n",
        "model2.add(Conv2D(filters=32, kernel_size=(3,3), activation='relu', input_shape=(28,28,1)))\n",
        "model2.add(MaxPool2D((2,2)))\n",
        "model2.add(Flatten())\n",
        "model2.add(Dense(512, activation='relu'))\n",
        "model2.add(Dense(10, activation='softmax'))\n",
        "model2.summary()"
      ]
    },
    {
      "cell_type": "code",
      "source": [
        "model2.compile(loss='categorical_crossentropy', metrics=['accuracy'], optimizer='adam')"
      ],
      "metadata": {
        "id": "--RMzCwu3vM5"
      },
      "execution_count": null,
      "outputs": []
    },
    {
      "cell_type": "code",
      "source": [
        "history = model2.fit(X_train, y_train,\n",
        "          batch_size=128, epochs=10,\n",
        "          verbose=2,\n",
        "          validation_split=0.2)"
      ],
      "metadata": {
        "colab": {
          "base_uri": "https://localhost:8080/"
        },
        "id": "BQoOyPYI3g0T",
        "outputId": "be6fddbc-24d7-4f2c-fa3e-44cec567d693"
      },
      "execution_count": null,
      "outputs": [
        {
          "output_type": "stream",
          "name": "stdout",
          "text": [
            "Epoch 1/10\n",
            "375/375 - 40s - loss: 0.2220 - accuracy: 0.9344 - val_loss: 0.0801 - val_accuracy: 0.9766 - 40s/epoch - 108ms/step\n",
            "Epoch 2/10\n",
            "375/375 - 41s - loss: 0.0638 - accuracy: 0.9799 - val_loss: 0.0560 - val_accuracy: 0.9837 - 41s/epoch - 109ms/step\n",
            "Epoch 3/10\n",
            "375/375 - 33s - loss: 0.0414 - accuracy: 0.9869 - val_loss: 0.0439 - val_accuracy: 0.9876 - 33s/epoch - 87ms/step\n",
            "Epoch 4/10\n",
            "375/375 - 35s - loss: 0.0321 - accuracy: 0.9900 - val_loss: 0.0508 - val_accuracy: 0.9854 - 35s/epoch - 94ms/step\n",
            "Epoch 5/10\n",
            "375/375 - 50s - loss: 0.0246 - accuracy: 0.9923 - val_loss: 0.0489 - val_accuracy: 0.9867 - 50s/epoch - 133ms/step\n",
            "Epoch 6/10\n",
            "375/375 - 32s - loss: 0.0189 - accuracy: 0.9939 - val_loss: 0.0436 - val_accuracy: 0.9883 - 32s/epoch - 84ms/step\n",
            "Epoch 7/10\n",
            "375/375 - 30s - loss: 0.0134 - accuracy: 0.9958 - val_loss: 0.0380 - val_accuracy: 0.9891 - 30s/epoch - 80ms/step\n",
            "Epoch 8/10\n",
            "375/375 - 29s - loss: 0.0112 - accuracy: 0.9964 - val_loss: 0.0441 - val_accuracy: 0.9877 - 29s/epoch - 78ms/step\n",
            "Epoch 9/10\n",
            "375/375 - 30s - loss: 0.0105 - accuracy: 0.9965 - val_loss: 0.0372 - val_accuracy: 0.9906 - 30s/epoch - 80ms/step\n",
            "Epoch 10/10\n",
            "375/375 - 29s - loss: 0.0079 - accuracy: 0.9972 - val_loss: 0.0442 - val_accuracy: 0.9893 - 29s/epoch - 78ms/step\n"
          ]
        }
      ]
    },
    {
      "cell_type": "code",
      "source": [
        "def plot_history(history):\n",
        "    plt.figure()\n",
        "    plt.subplot(2,1,1)\n",
        "    plt.plot(history.history['loss'])\n",
        "    plt.plot(history.history['val_loss'])\n",
        "    plt.ylabel('loss')\n",
        "    plt.xlabel('epoch')\n",
        "    plt.legend(['train', 'validation'])\n",
        "    plt.subplot(2,1,2)\n",
        "    plt.plot(history.history['accuracy'])\n",
        "    plt.plot(history.history['val_accuracy'])\n",
        "    plt.ylabel('accuracy')\n",
        "    plt.xlabel('epoch')\n",
        "    plt.legend(['train', 'validation'])\n",
        "    return;"
      ],
      "metadata": {
        "id": "V4FMaKeg37RB"
      },
      "execution_count": null,
      "outputs": []
    },
    {
      "cell_type": "code",
      "source": [
        "preds_prob = model2.predict(X_test[0:9,:,:,:])\n",
        "preds_class = np.argmax(preds_prob, axis=1)\n",
        "preds_class"
      ],
      "metadata": {
        "colab": {
          "base_uri": "https://localhost:8080/"
        },
        "id": "WaAo6YTn4Cx4",
        "outputId": "28f37e9f-c0ad-49f7-cf01-3d7730992467"
      },
      "execution_count": null,
      "outputs": [
        {
          "output_type": "execute_result",
          "data": {
            "text/plain": [
              "array([7, 2, 1, 0, 4, 1, 4, 9, 5])"
            ]
          },
          "metadata": {},
          "execution_count": 20
        }
      ]
    },
    {
      "cell_type": "code",
      "source": [
        "plt.figure(facecolor='w')\n",
        "for i in range(9):\n",
        "  plt.subplot(3,3,i+1)\n",
        "  plt.tight_layout()\n",
        "  plt.imshow(X_test_img[i], cmap='gray', interpolation='none')\n",
        "  plt.title(\"True:{}, Pred:{}\".format(y_test_img[i],preds_class[i]))\n",
        "  plt.xticks([])\n",
        "  plt.yticks([])"
      ],
      "metadata": {
        "colab": {
          "base_uri": "https://localhost:8080/",
          "height": 284
        },
        "id": "123Vu53V4MGA",
        "outputId": "4f9029cd-2410-4ba2-9443-1ab4416ed644"
      },
      "execution_count": null,
      "outputs": [
        {
          "output_type": "display_data",
          "data": {
            "image/png": "[encoded data removed]",
            "text/plain": [
              "<Figure size 432x288 with 9 Axes>"
            ]
          },
          "metadata": {}
        }
      ]
    },
    {
      "cell_type": "code",
      "source": [
        "test_scores_model2 = model2.evaluate(X_test, y_test, verbose=0)\n",
        "print(\"Test loss model 2:\", test_scores_model2[0])\n",
        "print(\"Test accuracy model 2:\", test_scores_model2[1])\n",
        "train_scores_model2 = model2.evaluate(X_train, y_train, verbose=0)\n",
        "print(\"Train loss model 2:\", train_scores_model2[0])\n",
        "print(\"Train accuracy model 2:\", train_scores_model2[1])"
      ],
      "metadata": {
        "colab": {
          "base_uri": "https://localhost:8080/"
        },
        "id": "B2FHpJYC4SB2",
        "outputId": "3053eef4-f4ba-4e92-922f-bd67b1082884"
      },
      "execution_count": null,
      "outputs": [
        {
          "output_type": "stream",
          "name": "stdout",
          "text": [
            "Test loss model 2: 0.033744633197784424\n",
            "Test accuracy model 2: 0.989300012588501\n",
            "Train loss model 2: 0.012799928896129131\n",
            "Train accuracy model 2: 0.996666669845581\n"
          ]
        }
      ]
    },
    {
      "cell_type": "code",
      "source": [
        ""
      ],
      "metadata": {
        "id": "6kRTGW6j5gQL"
      },
      "execution_count": null,
      "outputs": []
    }
  ],
  "metadata": {
    "kernelspec": {
      "display_name": "Python 3",
      "language": "python",
      "name": "python3"
    },
    "language_info": {
      "codemirror_mode": {
        "name": "ipython",
        "version": 3
      },
      "file_extension": ".py",
      "mimetype": "text/x-python",
      "name": "python",
      "nbconvert_exporter": "python",
      "pygments_lexer": "ipython3",
      "version": "3.8.11"
    },
    "colab": {
      "name": "tutorial06a.ipynb",
      "provenance": []
    }
  },
  "nbformat": 4,
  "nbformat_minor": 0
}