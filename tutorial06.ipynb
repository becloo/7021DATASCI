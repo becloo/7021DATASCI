{
  "cells": [
    {
      "cell_type": "markdown",
      "metadata": {
        "id": "QQ-HM5SAVORi"
      },
      "source": [
        "# Tutorial 06 (part 1): Deep fully-connected neural networks with Keras \n",
        "by Dr Ivan Olier-Caparroso, last updated: Feb-22\n",
        "\n",
        "## Introduction\n",
        "The aim with this tutorial is to get familiar with deep learning model implementations in *keras*. With this one in particular, we will practise how to implement deep dense feedforward neural networks, and what can we do to control for overfitting.\n",
        "\n",
        "It is good practice to start with a cleaned Python kernel. In order to do it, you can choose one of the options from the *Kernel* menu that start with *Restart kernel ...*.\n",
        "\n",
        "As in previous tutorial, we should import the required packages first. We don't need to import everything from the beginning, but it is good practice to do it so."
      ]
    },
    {
      "cell_type": "code",
      "execution_count": null,
      "metadata": {
        "id": "9-jFvzVbVORk"
      },
      "outputs": [],
      "source": [
        "from tensorflow.keras import Sequential\n",
        "from tensorflow.keras.layers import Dense\n",
        "from matplotlib import pyplot as plt\n",
        "import numpy as np\n",
        "%matplotlib inline"
      ]
    },
    {
      "cell_type": "markdown",
      "metadata": {
        "id": "rRYjlFRvVORl"
      },
      "source": [
        "## Dataset\n",
        "We can learn the basics of *Keras* by walking through a simple example: recognising handwritten digits from the MNIST dataset. MNIST consists of 28 x 28 grayscale images of handwritten digits like these:\n",
        "\n",
        "![](imgs/mnist_pic.png)\n",
        "\n",
        "The MNIST dataset is included with *Keras* and can be accessed using the `dataset_mnist()` function. \n",
        "* Here we load the dataset then create variables for our test and training data:"
      ]
    },
    {
      "cell_type": "code",
      "execution_count": null,
      "metadata": {
        "id": "lPsqFAqVVORl"
      },
      "outputs": [],
      "source": [
        "from tensorflow.keras.datasets import mnist\n",
        "(X_train, y_train), (X_test, y_test) = mnist.load_data()"
      ]
    },
    {
      "cell_type": "markdown",
      "metadata": {
        "id": "RS8EItqAVORm"
      },
      "source": [
        "Let's inspect a few examples. The *MNIST* dataset contains only grayscale images. For more advanced image datasets, we'll have the three color channels (RGB)."
      ]
    },
    {
      "cell_type": "code",
      "execution_count": null,
      "metadata": {
        "colab": {
          "base_uri": "https://localhost:8080/",
          "height": 284
        },
        "id": "3PMSzTYgVORm",
        "outputId": "5d49496f-6533-47fd-da88-924565a816cc"
      },
      "outputs": [
        {
          "output_type": "display_data",
          "data": {
            "image/png": "[encoded data removed]",
            "text/plain": [
              "<Figure size 432x288 with 9 Axes>"
            ]
          },
          "metadata": {}
        }
      ],
      "source": [
        "plt.figure(facecolor='w')\n",
        "for i in range(9):\n",
        "  plt.subplot(3,3,i+1)\n",
        "  plt.tight_layout()\n",
        "  plt.imshow(X_train[i], cmap='gray', interpolation='none')\n",
        "  plt.title(\"Digit: {}\".format(y_train[i]))\n",
        "  plt.xticks([])\n",
        "  plt.yticks([])"
      ]
    },
    {
      "cell_type": "markdown",
      "metadata": {
        "id": "CgSsrr_tVORm"
      },
      "source": [
        "In order to train our neural network to classify images we first have to unroll the height $\\times$ width pixel format into one big vector - the input vector. So its length must be $28 \\cdot 28 = 784$. But let's graph the distribution of our pixel values."
      ]
    },
    {
      "cell_type": "code",
      "execution_count": null,
      "metadata": {
        "colab": {
          "base_uri": "https://localhost:8080/",
          "height": 298
        },
        "id": "YQGYufJSVORn",
        "outputId": "cb7c030f-3831-4805-851d-caf35f72c1d8"
      },
      "outputs": [
        {
          "output_type": "execute_result",
          "data": {
            "text/plain": [
              "Text(0.5, 1.0, 'Pixel Value Distribution')"
            ]
          },
          "metadata": {},
          "execution_count": 7
        },
        {
          "output_type": "display_data",
          "data": {
            "image/png": "[encoded data removed]",
            "text/plain": [
              "<Figure size 432x288 with 1 Axes>"
            ]
          },
          "metadata": {
            "needs_background": "light"
          }
        }
      ],
      "source": [
        "plt.figure()\n",
        "plt.hist(X_train[0].reshape(784))\n",
        "plt.title(\"Pixel Value Distribution\")"
      ]
    },
    {
      "cell_type": "markdown",
      "metadata": {
        "id": "0g5_942hVORn"
      },
      "source": [
        "Dense feedforward neural networks expect a matrix (2-d array, with rows the observations and columns the features or variables). Therefore, we need to prepare the data for training by converting the 3-d arrays into matrices by reshaping width and height into a single dimension (28x28 images are flattened into length 784 vectors). Then, we convert the greyscale values from integers ranging between 0 to 255 into floating point values ranging between 0 and 1 (that is, we normalise the data):"
      ]
    },
    {
      "cell_type": "code",
      "execution_count": null,
      "metadata": {
        "id": "pQoX3b34VORn"
      },
      "outputs": [],
      "source": [
        "X_train = X_train.reshape(60000, 784).astype('float32')\n",
        "X_test = X_test.reshape(10000, 784).astype('float32')\n",
        "X_train /= 255\n",
        "X_test /= 255"
      ]
    },
    {
      "cell_type": "markdown",
      "metadata": {
        "id": "8ctZCRq1VORo"
      },
      "source": [
        "Therefore, the new data array dimensions are:"
      ]
    },
    {
      "cell_type": "code",
      "execution_count": null,
      "metadata": {
        "colab": {
          "base_uri": "https://localhost:8080/"
        },
        "id": "waT_NPaNVORo",
        "outputId": "55ab82d2-6d2c-4980-96f7-e4b9c186f4f7"
      },
      "outputs": [
        {
          "output_type": "stream",
          "name": "stdout",
          "text": [
            "Train matrix shape (60000, 784)\n",
            "Test matrix shape (10000, 784)\n"
          ]
        }
      ],
      "source": [
        "print(\"Train matrix shape\", X_train.shape)\n",
        "print(\"Test matrix shape\", X_test.shape)"
      ]
    },
    {
      "cell_type": "markdown",
      "metadata": {
        "id": "aBx5FWLIVORo"
      },
      "source": [
        "So far the truth we'll use for training still holds integer values from 0 to 9."
      ]
    },
    {
      "cell_type": "code",
      "execution_count": null,
      "metadata": {
        "colab": {
          "base_uri": "https://localhost:8080/"
        },
        "id": "4JkZSd00VORo",
        "outputId": "39527232-e09f-4e76-f04f-b8f8b88e9dd1"
      },
      "outputs": [
        {
          "output_type": "stream",
          "name": "stdout",
          "text": [
            "(array([0, 1, 2, 3, 4, 5, 6, 7, 8, 9], dtype=uint8), array([5923, 6742, 5958, 6131, 5842, 5421, 5918, 6265, 5851, 5949]))\n"
          ]
        }
      ],
      "source": [
        "print(np.unique(y_train, return_counts=True))"
      ]
    },
    {
      "cell_type": "markdown",
      "metadata": {
        "id": "Is6vF-JAVORp"
      },
      "source": [
        "Let's encode our categories - digits from 0 to 9 - using *one-hot encoding*. The result is a vector with a length equal to the number of categories. The vector is all zeroes except in the position for the respective category. Thus a '$5$' will be represented by $[0,0,0,0,1,0,0,0,0]$."
      ]
    },
    {
      "cell_type": "code",
      "execution_count": null,
      "metadata": {
        "id": "5TZlBdvfVORp"
      },
      "outputs": [],
      "source": [
        "from tensorflow.keras.utils import to_categorical\n",
        "y_train = to_categorical(y_train, 10)\n",
        "y_test = to_categorical(y_test, 10)"
      ]
    },
    {
      "cell_type": "markdown",
      "metadata": {
        "id": "paGYbgupVORp"
      },
      "source": [
        "## Building a first network\n",
        "We aim to build a first architecture as the one in the below figure:\n",
        "![](imgs/mlp_mnist1.jpg)\n",
        "\n",
        "The network consists of:\n",
        "* An input layer of 784 input features.\n",
        "* Two hidden layers of 512 neurons each. We will use `relu` activation function for all neurons in the hidden layers.\n",
        "* An output layer of 10 neurons, one for each class. Their activation functions are `softmax` - they will provide relative class probability.  "
      ]
    },
    {
      "cell_type": "code",
      "execution_count": null,
      "metadata": {
        "colab": {
          "base_uri": "https://localhost:8080/"
        },
        "id": "YZqi--XKVORp",
        "outputId": "5142aadb-bf4c-4281-a644-6e0a328b21c7"
      },
      "outputs": [
        {
          "output_type": "stream",
          "name": "stdout",
          "text": [
            "Model: \"sequential\"\n",
            "_________________________________________________________________\n",
            " Layer (type)                Output Shape              Param #   \n",
            "=================================================================\n",
            " dense (Dense)               (None, 512)               401920    \n",
            "                                                                 \n",
            " dense_1 (Dense)             (None, 512)               262656    \n",
            "                                                                 \n",
            " dense_2 (Dense)             (None, 10)                5130      \n",
            "                                                                 \n",
            "=================================================================\n",
            "Total params: 669,706\n",
            "Trainable params: 669,706\n",
            "Non-trainable params: 0\n",
            "_________________________________________________________________\n"
          ]
        }
      ],
      "source": [
        "model1 = Sequential()\n",
        "model1.add(Dense(512, activation='relu', input_shape=(784,)))\n",
        "model1.add(Dense(512, activation='relu'))\n",
        "model1.add(Dense(10, activation='softmax'))\n",
        "model1.summary()"
      ]
    },
    {
      "cell_type": "markdown",
      "metadata": {
        "id": "zMVFlnKyVORq"
      },
      "source": [
        "Notice the number of parameters to learn. All of them are either connection weights or biases. "
      ]
    },
    {
      "cell_type": "code",
      "execution_count": null,
      "metadata": {
        "colab": {
          "base_uri": "https://localhost:8080/",
          "height": 369
        },
        "id": "7axibiPyVORq",
        "outputId": "4827895c-9628-4b75-ccfc-1eb004498c34"
      },
      "outputs": [
        {
          "output_type": "execute_result",
          "data": {
            "image/png": "[encoded data removed]",
            "text/plain": [
              "<IPython.core.display.Image object>"
            ]
          },
          "metadata": {},
          "execution_count": 13
        }
      ],
      "source": [
        "from tensorflow.keras.utils import plot_model\n",
        "plot_model(model1)"
      ]
    },
    {
      "cell_type": "markdown",
      "metadata": {
        "id": "vsq1Wv0kVORq"
      },
      "source": [
        "Now, let's set up the optimiser and performance metrics. See the code below:"
      ]
    },
    {
      "cell_type": "code",
      "execution_count": null,
      "metadata": {
        "id": "guguo6bYVORq"
      },
      "outputs": [],
      "source": [
        "model1.compile(\n",
        "    loss='categorical_crossentropy', \n",
        "    metrics=['accuracy'], \n",
        "    optimizer='adam'\n",
        ")"
      ]
    },
    {
      "cell_type": "markdown",
      "metadata": {
        "id": "FK8i0G_iVORq"
      },
      "source": [
        "We are using *ADAM* this time. Please, refer to the lecture slides for more information. We are ready to train the model. Notice in the code below that I'm using `verbose=0`, which means that partial training outcomes won't be prompted. This will significantly increase training speed. I also use that mode here so I do not clutter this document. But feel free to change the verbose mode. You can check the documentation for other options. Other arguments of function `fit` are `epochs` (30, but you could see that a smaller number could also work), `batch_size` (128), and `validation_split` (0.2, 20\\% of training subset will be used for validation). The batch size is usually chosen according to the length of the dataset and the expected number of epochs to reach convergence. We have 7,000 rows in the training set hence a batch no larger than 1,000 makes sense. Smaller batches will lead to bumpier learning curves but the algorithm will run faster."
      ]
    },
    {
      "cell_type": "code",
      "execution_count": null,
      "metadata": {
        "colab": {
          "base_uri": "https://localhost:8080/"
        },
        "id": "4AoBZ_-CVORr",
        "outputId": "d662e4df-b1fd-4040-c969-16d0df83981a"
      },
      "outputs": [
        {
          "output_type": "stream",
          "name": "stdout",
          "text": [
            "Epoch 1/20\n",
            "375/375 [==============================] - 6s 15ms/step - loss: 0.2434 - accuracy: 0.9279 - val_loss: 0.1185 - val_accuracy: 0.9643\n",
            "Epoch 2/20\n",
            "375/375 [==============================] - 5s 14ms/step - loss: 0.0873 - accuracy: 0.9735 - val_loss: 0.0894 - val_accuracy: 0.9734\n",
            "Epoch 3/20\n",
            "375/375 [==============================] - 5s 14ms/step - loss: 0.0541 - accuracy: 0.9837 - val_loss: 0.0754 - val_accuracy: 0.9768\n",
            "Epoch 4/20\n",
            "375/375 [==============================] - 6s 15ms/step - loss: 0.0360 - accuracy: 0.9889 - val_loss: 0.0843 - val_accuracy: 0.9766\n",
            "Epoch 5/20\n",
            "375/375 [==============================] - 5s 14ms/step - loss: 0.0280 - accuracy: 0.9909 - val_loss: 0.0909 - val_accuracy: 0.9745\n",
            "Epoch 6/20\n",
            "375/375 [==============================] - 5s 13ms/step - loss: 0.0234 - accuracy: 0.9919 - val_loss: 0.1028 - val_accuracy: 0.9754\n",
            "Epoch 7/20\n",
            "375/375 [==============================] - 5s 14ms/step - loss: 0.0187 - accuracy: 0.9939 - val_loss: 0.1039 - val_accuracy: 0.9742\n",
            "Epoch 8/20\n",
            "375/375 [==============================] - 5s 14ms/step - loss: 0.0171 - accuracy: 0.9947 - val_loss: 0.0832 - val_accuracy: 0.9799\n",
            "Epoch 9/20\n",
            "375/375 [==============================] - 6s 15ms/step - loss: 0.0130 - accuracy: 0.9957 - val_loss: 0.0934 - val_accuracy: 0.9787\n",
            "Epoch 10/20\n",
            "375/375 [==============================] - 6s 16ms/step - loss: 0.0134 - accuracy: 0.9956 - val_loss: 0.1469 - val_accuracy: 0.9698\n",
            "Epoch 11/20\n",
            "375/375 [==============================] - 6s 15ms/step - loss: 0.0138 - accuracy: 0.9956 - val_loss: 0.1138 - val_accuracy: 0.9743\n",
            "Epoch 12/20\n",
            "375/375 [==============================] - 5s 14ms/step - loss: 0.0109 - accuracy: 0.9964 - val_loss: 0.1369 - val_accuracy: 0.9726\n",
            "Epoch 13/20\n",
            "375/375 [==============================] - 5s 13ms/step - loss: 0.0110 - accuracy: 0.9965 - val_loss: 0.1232 - val_accuracy: 0.9758\n",
            "Epoch 14/20\n",
            "375/375 [==============================] - 5s 15ms/step - loss: 0.0082 - accuracy: 0.9971 - val_loss: 0.1181 - val_accuracy: 0.9766\n",
            "Epoch 15/20\n",
            "375/375 [==============================] - 5s 14ms/step - loss: 0.0125 - accuracy: 0.9957 - val_loss: 0.1153 - val_accuracy: 0.9774\n",
            "Epoch 16/20\n",
            "375/375 [==============================] - 5s 14ms/step - loss: 0.0091 - accuracy: 0.9971 - val_loss: 0.1161 - val_accuracy: 0.9778\n",
            "Epoch 17/20\n",
            "375/375 [==============================] - 6s 15ms/step - loss: 0.0069 - accuracy: 0.9977 - val_loss: 0.1327 - val_accuracy: 0.9778\n",
            "Epoch 18/20\n",
            "375/375 [==============================] - 6s 15ms/step - loss: 0.0070 - accuracy: 0.9978 - val_loss: 0.1124 - val_accuracy: 0.9781\n",
            "Epoch 19/20\n",
            "375/375 [==============================] - 6s 16ms/step - loss: 0.0063 - accuracy: 0.9981 - val_loss: 0.1246 - val_accuracy: 0.9792\n",
            "Epoch 20/20\n",
            "375/375 [==============================] - 5s 14ms/step - loss: 0.0065 - accuracy: 0.9979 - val_loss: 0.1148 - val_accuracy: 0.9792\n"
          ]
        }
      ],
      "source": [
        "history = model1.fit(X_train, y_train,\n",
        "          batch_size=128, epochs=20,\n",
        "          verbose=1,\n",
        "          validation_split=0.2)"
      ]
    },
    {
      "cell_type": "markdown",
      "metadata": {
        "id": "0GCzk3QPVORr"
      },
      "source": [
        "As before, we can implement a quick function to plot learning curves:"
      ]
    },
    {
      "cell_type": "code",
      "execution_count": null,
      "metadata": {
        "colab": {
          "base_uri": "https://localhost:8080/",
          "height": 279
        },
        "id": "mSbCNIE9VORr",
        "outputId": "f521061f-ab7c-4505-a3cf-a2ec38c0cad3"
      },
      "outputs": [
        {
          "output_type": "display_data",
          "data": {
            "image/png": "[encoded data removed]",
            "text/plain": [
              "<Figure size 432x288 with 2 Axes>"
            ]
          },
          "metadata": {
            "needs_background": "light"
          }
        }
      ],
      "source": [
        "def plot_history(history):\n",
        "    plt.figure()\n",
        "    plt.subplot(2,1,1)\n",
        "    plt.plot(history.history['loss'])\n",
        "    plt.plot(history.history['val_loss'])\n",
        "    plt.ylabel('loss')\n",
        "    plt.xlabel('epoch')\n",
        "    plt.legend(['train', 'validation'])\n",
        "    plt.subplot(2,1,2)\n",
        "    plt.plot(history.history['accuracy'])\n",
        "    plt.plot(history.history['val_accuracy'])\n",
        "    plt.ylabel('accuracy')\n",
        "    plt.xlabel('epoch')\n",
        "    plt.legend(['train', 'validation'])\n",
        "    return;\n",
        "\n",
        "plot_history(history)"
      ]
    },
    {
      "cell_type": "markdown",
      "metadata": {
        "id": "5h3_AK36VORr"
      },
      "source": [
        "## Exercise\n",
        "\n",
        "Before we carry on with the rest of the tutorial, let's stop for a minute here to reflect on above results. \n",
        "\n",
        "1. What are the training and validation losses and accuracies at epoch 10?\n",
        "2. What can you tell about model performance?\n",
        "3. Write a line of code to estimate model accuracy on the test subset. How test accuracy compares against training accuracy? comments?\n",
        "\n",
        "### Solution"
      ]
    },
    {
      "cell_type": "code",
      "execution_count": null,
      "metadata": {
        "colab": {
          "base_uri": "https://localhost:8080/"
        },
        "id": "mvk0WpxGVORr",
        "outputId": "2c1d4b2c-55d3-4ab2-f981-25a48e699114"
      },
      "outputs": [
        {
          "output_type": "stream",
          "name": "stdout",
          "text": [
            "Test loss model 1: 0.1253509223461151\n",
            "Test accuracy model 1: 0.9783999919891357\n",
            "Train loss model 1: 0.02661045268177986\n",
            "Train accuracy model 1: 0.9947333335876465\n"
          ]
        }
      ],
      "source": [
        "test_scores_model1 = model1.evaluate(X_test, y_test, verbose=0)\n",
        "print(\"Test loss model 1:\", test_scores_model1[0])\n",
        "print(\"Test accuracy model 1:\", test_scores_model1[1])\n",
        "train_scores_model1 = model1.evaluate(X_train, y_train, verbose=0)\n",
        "print(\"Train loss model 1:\", train_scores_model1[0])\n",
        "print(\"Train accuracy model 1:\", train_scores_model1[1])"
      ]
    },
    {
      "cell_type": "markdown",
      "metadata": {
        "id": "URbwXUC1VORs"
      },
      "source": [
        "## Controlling for overfitting\n",
        "Prior model is overfitted. That is, the model has learnt the training set extremely well, but struggles with test sets that have not been seen by the model during learning. As studied in the lecture slides, the key to control for overfitting is to have a good balance between the amount of data available and model complexity (i.e. the number of free parameters that need to be learnt). One way to reduce the risk of overfitting is by getting more data. Depending on the application, this could pose lot of challenges like the increasing cost of recording the data, or perhaps because there is no way to get more (historic data). Alternatively, we can attempt to reduce model complexity. In deep learning, one common way to do it is by dropping neurons out during the training hence the number of free parameters are reduced. We do this in the folowing code:"
      ]
    },
    {
      "cell_type": "code",
      "execution_count": null,
      "metadata": {
        "colab": {
          "base_uri": "https://localhost:8080/"
        },
        "id": "MEtiilpEVORs",
        "outputId": "37a98e77-ca79-49fa-ca93-0db0a6e4c97a"
      },
      "outputs": [
        {
          "output_type": "stream",
          "name": "stdout",
          "text": [
            "Model: \"sequential_1\"\n",
            "_________________________________________________________________\n",
            " Layer (type)                Output Shape              Param #   \n",
            "=================================================================\n",
            " dense_3 (Dense)             (None, 512)               401920    \n",
            "                                                                 \n",
            " dropout (Dropout)           (None, 512)               0         \n",
            "                                                                 \n",
            " dense_4 (Dense)             (None, 512)               262656    \n",
            "                                                                 \n",
            " dropout_1 (Dropout)         (None, 512)               0         \n",
            "                                                                 \n",
            " dense_5 (Dense)             (None, 10)                5130      \n",
            "                                                                 \n",
            "=================================================================\n",
            "Total params: 669,706\n",
            "Trainable params: 669,706\n",
            "Non-trainable params: 0\n",
            "_________________________________________________________________\n"
          ]
        }
      ],
      "source": [
        "from tensorflow.keras.layers import Dropout\n",
        "\n",
        "model2 = Sequential()\n",
        "model2.add(Dense(512, activation='relu', input_shape=(784,)))\n",
        "model2.add(Dropout(rate=0.4))\n",
        "model2.add(Dense(512, activation='relu'))\n",
        "model2.add(Dropout(rate=0.4))\n",
        "model2.add(Dense(10, activation='softmax'))\n",
        "\n",
        "model2.summary()"
      ]
    },
    {
      "cell_type": "markdown",
      "metadata": {
        "id": "084g0LbzVORs"
      },
      "source": [
        "The function `Dropout` will do exactly that. The dropping rate is controlled by the argument `rate`. Now we can just carry on with the rest of the steps to build the model as before:"
      ]
    },
    {
      "cell_type": "code",
      "execution_count": null,
      "metadata": {
        "colab": {
          "base_uri": "https://localhost:8080/"
        },
        "id": "l5lFKzMCVORs",
        "outputId": "3a2d5d33-0fa1-4597-cf6f-c58b2f243e1d"
      },
      "outputs": [
        {
          "output_type": "stream",
          "name": "stdout",
          "text": [
            "Epoch 1/20\n",
            "375/375 [==============================] - 7s 16ms/step - loss: 0.3415 - accuracy: 0.8948 - val_loss: 0.1289 - val_accuracy: 0.9616\n",
            "Epoch 2/20\n",
            "375/375 [==============================] - 6s 15ms/step - loss: 0.1488 - accuracy: 0.9544 - val_loss: 0.0945 - val_accuracy: 0.9711\n",
            "Epoch 3/20\n",
            "375/375 [==============================] - 6s 16ms/step - loss: 0.1129 - accuracy: 0.9653 - val_loss: 0.0863 - val_accuracy: 0.9739\n",
            "Epoch 4/20\n",
            "375/375 [==============================] - 6s 15ms/step - loss: 0.0892 - accuracy: 0.9725 - val_loss: 0.0829 - val_accuracy: 0.9746\n",
            "Epoch 5/20\n",
            "375/375 [==============================] - 6s 15ms/step - loss: 0.0767 - accuracy: 0.9754 - val_loss: 0.0769 - val_accuracy: 0.9773\n",
            "Epoch 6/20\n",
            "375/375 [==============================] - 6s 16ms/step - loss: 0.0709 - accuracy: 0.9780 - val_loss: 0.0740 - val_accuracy: 0.9775\n",
            "Epoch 7/20\n",
            "375/375 [==============================] - 6s 16ms/step - loss: 0.0610 - accuracy: 0.9804 - val_loss: 0.0790 - val_accuracy: 0.9770\n",
            "Epoch 8/20\n",
            "375/375 [==============================] - 7s 18ms/step - loss: 0.0562 - accuracy: 0.9827 - val_loss: 0.0738 - val_accuracy: 0.9793\n",
            "Epoch 9/20\n",
            "375/375 [==============================] - 6s 17ms/step - loss: 0.0497 - accuracy: 0.9838 - val_loss: 0.0791 - val_accuracy: 0.9769\n",
            "Epoch 10/20\n",
            "375/375 [==============================] - 6s 15ms/step - loss: 0.0513 - accuracy: 0.9830 - val_loss: 0.0732 - val_accuracy: 0.9796\n",
            "Epoch 11/20\n",
            "375/375 [==============================] - 6s 16ms/step - loss: 0.0435 - accuracy: 0.9860 - val_loss: 0.0743 - val_accuracy: 0.9784\n",
            "Epoch 12/20\n",
            "375/375 [==============================] - 6s 16ms/step - loss: 0.0403 - accuracy: 0.9865 - val_loss: 0.0779 - val_accuracy: 0.9797\n",
            "Epoch 13/20\n",
            "375/375 [==============================] - 6s 17ms/step - loss: 0.0406 - accuracy: 0.9866 - val_loss: 0.0775 - val_accuracy: 0.9793\n",
            "Epoch 14/20\n",
            "375/375 [==============================] - 6s 16ms/step - loss: 0.0411 - accuracy: 0.9863 - val_loss: 0.0795 - val_accuracy: 0.9787\n",
            "Epoch 15/20\n",
            "375/375 [==============================] - 6s 16ms/step - loss: 0.0360 - accuracy: 0.9884 - val_loss: 0.0793 - val_accuracy: 0.9794\n",
            "Epoch 16/20\n",
            "375/375 [==============================] - 6s 16ms/step - loss: 0.0340 - accuracy: 0.9888 - val_loss: 0.0800 - val_accuracy: 0.9807\n",
            "Epoch 17/20\n",
            "375/375 [==============================] - 6s 17ms/step - loss: 0.0358 - accuracy: 0.9882 - val_loss: 0.0819 - val_accuracy: 0.9797\n",
            "Epoch 18/20\n",
            "375/375 [==============================] - 6s 16ms/step - loss: 0.0313 - accuracy: 0.9900 - val_loss: 0.0766 - val_accuracy: 0.9817\n",
            "Epoch 19/20\n",
            "375/375 [==============================] - 6s 15ms/step - loss: 0.0307 - accuracy: 0.9897 - val_loss: 0.0794 - val_accuracy: 0.9803\n",
            "Epoch 20/20\n",
            "375/375 [==============================] - 6s 16ms/step - loss: 0.0308 - accuracy: 0.9900 - val_loss: 0.0770 - val_accuracy: 0.9816\n"
          ]
        }
      ],
      "source": [
        "model2.compile(loss='categorical_crossentropy', metrics=['accuracy'], optimizer='adam')\n",
        "history = model2.fit(X_train, y_train,\n",
        "          batch_size=128, epochs=20,\n",
        "          verbose=1,\n",
        "          validation_split=0.2)"
      ]
    },
    {
      "cell_type": "markdown",
      "metadata": {
        "id": "A_7pPvQ8VORt"
      },
      "source": [
        "If we produce the learning curve plots, we can observe the gap between training and validation has considerably shrank:"
      ]
    },
    {
      "cell_type": "code",
      "execution_count": null,
      "metadata": {
        "colab": {
          "base_uri": "https://localhost:8080/"
        },
        "id": "K-MGB5DoVORt",
        "outputId": "b193c0ba-dc98-4d9f-a059-ba09bfe364b9"
      },
      "outputs": [
        {
          "output_type": "stream",
          "name": "stdout",
          "text": [
            "Test loss model 2: 0.06699377298355103\n",
            "Test accuracy model 2: 0.9836000204086304\n",
            "Train loss model 2: 0.019545041024684906\n",
            "Train accuracy model 2: 0.9950833320617676\n"
          ]
        }
      ],
      "source": [
        "test_scores_model2 = model2.evaluate(X_test, y_test, verbose=0)\n",
        "print(\"Test loss model 2:\", test_scores_model2[0])\n",
        "print(\"Test accuracy model 2:\", test_scores_model2[1])\n",
        "train_scores_model2 = model2.evaluate(X_train, y_train, verbose=0)\n",
        "print(\"Train loss model 2:\", train_scores_model2[0])\n",
        "print(\"Train accuracy model 2:\", train_scores_model2[1])"
      ]
    },
    {
      "cell_type": "code",
      "execution_count": null,
      "metadata": {
        "colab": {
          "base_uri": "https://localhost:8080/",
          "height": 279
        },
        "id": "Kc0d4BecVORt",
        "outputId": "68219cb7-4610-4931-9c4c-f97396da6617"
      },
      "outputs": [
        {
          "output_type": "display_data",
          "data": {
            "image/png": "[encoded data removed]",
            "text/plain": [
              "<Figure size 432x288 with 2 Axes>"
            ]
          },
          "metadata": {
            "needs_background": "light"
          }
        }
      ],
      "source": [
        "plot_history(history)"
      ]
    },
    {
      "cell_type": "code",
      "source": [
        "from tensorflow.keras.layers import Dropout\n",
        "\n",
        "model3 = Sequential()\n",
        "model3.add(Dense(512, activation='relu', input_shape=(784,)))\n",
        "model3.add(Dropout(rate=0.4))\n",
        "model3.add(Dense(512, activation='relu'))\n",
        "model3.add(Dropout(rate=0.4))\n",
        "model3.add(Dense(10, activation='softmax'))\n",
        "\n",
        "model3.summary()"
      ],
      "metadata": {
        "colab": {
          "base_uri": "https://localhost:8080/"
        },
        "id": "tIc-wr0Nsb01",
        "outputId": "bf87a0df-d4ae-4624-ed8d-83d8c7ae21e3"
      },
      "execution_count": null,
      "outputs": [
        {
          "output_type": "stream",
          "name": "stdout",
          "text": [
            "Model: \"sequential_5\"\n",
            "_________________________________________________________________\n",
            " Layer (type)                Output Shape              Param #   \n",
            "=================================================================\n",
            " dense_15 (Dense)            (None, 512)               401920    \n",
            "                                                                 \n",
            " dropout_8 (Dropout)         (None, 512)               0         \n",
            "                                                                 \n",
            " dense_16 (Dense)            (None, 512)               262656    \n",
            "                                                                 \n",
            " dropout_9 (Dropout)         (None, 512)               0         \n",
            "                                                                 \n",
            " dense_17 (Dense)            (None, 10)                5130      \n",
            "                                                                 \n",
            "=================================================================\n",
            "Total params: 669,706\n",
            "Trainable params: 669,706\n",
            "Non-trainable params: 0\n",
            "_________________________________________________________________\n"
          ]
        }
      ]
    },
    {
      "cell_type": "code",
      "source": [
        "model3.compile(loss='categorical_crossentropy', metrics=['accuracy'], optimizer='SGD')\n",
        "history = model3.fit(X_train, y_train,\n",
        "          batch_size=128, epochs=20,\n",
        "          verbose=1,\n",
        "          validation_split=0.2)"
      ],
      "metadata": {
        "colab": {
          "base_uri": "https://localhost:8080/"
        },
        "id": "PT3CHUhNsXM3",
        "outputId": "978d4846-7aa2-4813-c3ef-167ca5f6068f"
      },
      "execution_count": null,
      "outputs": [
        {
          "output_type": "stream",
          "name": "stdout",
          "text": [
            "Epoch 1/20\n",
            "375/375 [==============================] - 7s 16ms/step - loss: 1.5258 - accuracy: 0.5440 - val_loss: 0.6985 - val_accuracy: 0.8428\n",
            "Epoch 2/20\n",
            "375/375 [==============================] - 6s 17ms/step - loss: 0.7408 - accuracy: 0.7807 - val_loss: 0.4363 - val_accuracy: 0.8855\n",
            "Epoch 3/20\n",
            "375/375 [==============================] - 6s 16ms/step - loss: 0.5622 - accuracy: 0.8311 - val_loss: 0.3636 - val_accuracy: 0.8984\n",
            "Epoch 4/20\n",
            "375/375 [==============================] - 6s 15ms/step - loss: 0.4892 - accuracy: 0.8552 - val_loss: 0.3253 - val_accuracy: 0.9082\n",
            "Epoch 5/20\n",
            "375/375 [==============================] - 6s 15ms/step - loss: 0.4436 - accuracy: 0.8684 - val_loss: 0.2994 - val_accuracy: 0.9143\n",
            "Epoch 6/20\n",
            "375/375 [==============================] - 5s 14ms/step - loss: 0.4077 - accuracy: 0.8798 - val_loss: 0.2820 - val_accuracy: 0.9187\n",
            "Epoch 7/20\n",
            "375/375 [==============================] - 6s 15ms/step - loss: 0.3815 - accuracy: 0.8882 - val_loss: 0.2671 - val_accuracy: 0.9223\n",
            "Epoch 8/20\n",
            "375/375 [==============================] - 6s 15ms/step - loss: 0.3627 - accuracy: 0.8929 - val_loss: 0.2538 - val_accuracy: 0.9254\n",
            "Epoch 9/20\n",
            "375/375 [==============================] - 6s 15ms/step - loss: 0.3423 - accuracy: 0.8995 - val_loss: 0.2415 - val_accuracy: 0.9284\n",
            "Epoch 10/20\n",
            "375/375 [==============================] - 6s 17ms/step - loss: 0.3272 - accuracy: 0.9038 - val_loss: 0.2329 - val_accuracy: 0.9323\n",
            "Epoch 11/20\n",
            "375/375 [==============================] - 7s 19ms/step - loss: 0.3130 - accuracy: 0.9079 - val_loss: 0.2227 - val_accuracy: 0.9352\n",
            "Epoch 12/20\n",
            "375/375 [==============================] - 6s 17ms/step - loss: 0.2981 - accuracy: 0.9114 - val_loss: 0.2147 - val_accuracy: 0.9382\n",
            "Epoch 13/20\n",
            "375/375 [==============================] - 5s 14ms/step - loss: 0.2908 - accuracy: 0.9148 - val_loss: 0.2074 - val_accuracy: 0.9393\n",
            "Epoch 14/20\n",
            "375/375 [==============================] - 6s 15ms/step - loss: 0.2765 - accuracy: 0.9183 - val_loss: 0.2014 - val_accuracy: 0.9422\n",
            "Epoch 15/20\n",
            "375/375 [==============================] - 5s 14ms/step - loss: 0.2711 - accuracy: 0.9206 - val_loss: 0.1948 - val_accuracy: 0.9441\n",
            "Epoch 16/20\n",
            "375/375 [==============================] - 5s 14ms/step - loss: 0.2582 - accuracy: 0.9234 - val_loss: 0.1890 - val_accuracy: 0.9453\n",
            "Epoch 17/20\n",
            "375/375 [==============================] - 6s 16ms/step - loss: 0.2541 - accuracy: 0.9256 - val_loss: 0.1838 - val_accuracy: 0.9473\n",
            "Epoch 18/20\n",
            "375/375 [==============================] - 5s 14ms/step - loss: 0.2458 - accuracy: 0.9283 - val_loss: 0.1780 - val_accuracy: 0.9494\n",
            "Epoch 19/20\n",
            "375/375 [==============================] - 5s 14ms/step - loss: 0.2347 - accuracy: 0.9315 - val_loss: 0.1738 - val_accuracy: 0.9502\n",
            "Epoch 20/20\n",
            "375/375 [==============================] - 6s 16ms/step - loss: 0.2343 - accuracy: 0.9305 - val_loss: 0.1696 - val_accuracy: 0.9515\n"
          ]
        }
      ]
    },
    {
      "cell_type": "code",
      "source": [
        "test_scores_model3 = model3.evaluate(X_test, y_test, verbose=0)\n",
        "print(\"Test loss model 3:\", test_scores_model3[0])\n",
        "print(\"Test accuracy model 3:\", test_scores_model3[1])\n",
        "train_scores_model3 = model3.evaluate(X_train, y_train, verbose=0)\n",
        "print(\"Train loss model 3:\", train_scores_model3[0])\n",
        "print(\"Train accuracy model 3:\", train_scores_model3[1])"
      ],
      "metadata": {
        "colab": {
          "base_uri": "https://localhost:8080/"
        },
        "id": "-ReWjLDWyk_7",
        "outputId": "50329750-c8f1-4724-d8fd-ae1bdd13de20"
      },
      "execution_count": null,
      "outputs": [
        {
          "output_type": "stream",
          "name": "stdout",
          "text": [
            "Test loss model 3: 0.16996701061725616\n",
            "Test accuracy model 3: 0.9498000144958496\n",
            "Train loss model 3: 0.16966204345226288\n",
            "Train accuracy model 3: 0.949833333492279\n"
          ]
        }
      ]
    },
    {
      "cell_type": "code",
      "source": [
        "plot_history(history)"
      ],
      "metadata": {
        "colab": {
          "base_uri": "https://localhost:8080/",
          "height": 279
        },
        "id": "qe-s-cCGy5rB",
        "outputId": "5262447b-2a20-413e-afea-867fc451d2a6"
      },
      "execution_count": null,
      "outputs": [
        {
          "output_type": "display_data",
          "data": {
            "image/png": "[encoded data removed]",
            "text/plain": [
              "<Figure size 432x288 with 2 Axes>"
            ]
          },
          "metadata": {
            "needs_background": "light"
          }
        }
      ]
    },
    {
      "cell_type": "markdown",
      "metadata": {
        "id": "AvsmY-lNVORt"
      },
      "source": [
        "Now, we can estimate the performance on the test set:"
      ]
    },
    {
      "cell_type": "markdown",
      "metadata": {
        "id": "f02M25MmVORt"
      },
      "source": [
        "## Exercise\n",
        "\n",
        "* How does the dropout rate choice influence the model performance? Try several rate values in both layers to have some insights. Keep it simple, a couple of extreme values should be enough.\n"
      ]
    },
    {
      "cell_type": "code",
      "execution_count": null,
      "metadata": {
        "id": "uLZ96fmkVORu"
      },
      "outputs": [],
      "source": [
        ""
      ]
    }
  ],
  "metadata": {
    "kernelspec": {
      "display_name": "Python 3",
      "language": "python",
      "name": "python3"
    },
    "language_info": {
      "codemirror_mode": {
        "name": "ipython",
        "version": 3
      },
      "file_extension": ".py",
      "mimetype": "text/x-python",
      "name": "python",
      "nbconvert_exporter": "python",
      "pygments_lexer": "ipython3",
      "version": "3.8.11"
    },
    "colab": {
      "name": "tutorial06.ipynb",
      "provenance": []
    }
  },
  "nbformat": 4,
  "nbformat_minor": 0
}