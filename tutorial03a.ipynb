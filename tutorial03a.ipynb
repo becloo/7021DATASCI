{
 "cells": [
  {
   "cell_type": "markdown",
   "metadata": {},
   "source": [
    "# Tutorial 03 : Support Vector Machines (SVMs)\n",
    "by Dr Ivan Olier-Caparroso, last updated: 30/01/22\n",
    "\n",
    "## Introduction\n",
    "The aim with this tutorial is to practise the implementation of support vector machines (SVMs) in Python.\n",
    "\n",
    "As in prior lab, let's import several common modules that we would be using throughout the lab. `pandas` for dataframe manipulation, `matplotlib` for plotting, and `numpy` for arrays and linear algebra operations:"
   ]
  },
  {
   "cell_type": "code",
   "execution_count": null,
   "metadata": {},
   "outputs": [],
   "source": [
    "import pandas as pd\n",
    "import numpy as np\n",
    "import matplotlib as mpl #also import the whole module as we will use other functions not in pyplot.\n",
    "import matplotlib.pyplot as plt\n",
    "%matplotlib inline"
   ]
  },
  {
   "cell_type": "markdown",
   "metadata": {},
   "source": [
    "In this lab, we will also use the `SVC` module from the `sklearn.svm` package to demonstrate the support vector classifier and the SVM:"
   ]
  },
  {
   "cell_type": "code",
   "execution_count": null,
   "metadata": {},
   "outputs": [],
   "source": [
    "from sklearn.svm import SVC"
   ]
  },
  {
   "cell_type": "markdown",
   "metadata": {},
   "source": [
    "## Support Vector Classifier\n",
    "\n",
    "The `SVC()` function can be used to fit a support vector classifier when the argument `kernel=\"linear\"` is used. The `c` argument allows us to specify the cost of a violation to the margin. When the `c` argument is **small**, then the margins will be wide and many support vectors will be on the margin or will violate the margin. When the `c` argument is large, then the margins will be narrow and there will be few support vectors on the margin or violating the margin.\n",
    "\n",
    "We can use the `SVC()` function to fit the support vector classifier for a given value of the `cost` parameter. Here we demonstrate the use of this function on a two-dimensional example so that we can plot the resulting decision boundary. Let's start by generating a set of observations, which belong to two classes:"
   ]
  },
  {
   "cell_type": "code",
   "execution_count": null,
   "metadata": {},
   "outputs": [],
   "source": [
    "# Generating random data: 20 observations of 2 features and divide into two classes.\n",
    "np.random.seed(5)\n",
    "X = np.random.randn(20,2)\n",
    "y = np.repeat([1,-1], 10)\n",
    "\n",
    "X[y == -1] = X[y == -1]+1"
   ]
  },
  {
   "cell_type": "markdown",
   "metadata": {},
   "source": [
    "Let's plot the data to see whether the classes are linearly separable:"
   ]
  },
  {
   "cell_type": "code",
   "execution_count": null,
   "metadata": {},
   "outputs": [],
   "source": [
    "plt.scatter(X[:,0], X[:,1], s=70, c=y, cmap=mpl.cm.Paired)\n",
    "plt.xlabel('X1')\n",
    "plt.ylabel('X2')"
   ]
  },
  {
   "cell_type": "markdown",
   "metadata": {},
   "source": [
    "Nope; not linear. Next, we fit the support vector classifier:"
   ]
  },
  {
   "cell_type": "code",
   "execution_count": null,
   "metadata": {
    "jupyter": {
     "outputs_hidden": false
    }
   },
   "outputs": [],
   "source": [
    "svc = SVC(C=1, kernel='linear')\n",
    "svc.fit(X, y)"
   ]
  },
  {
   "cell_type": "markdown",
   "metadata": {},
   "source": [
    "We can now plot the support vector classifier. To this, we can create a python function to draw nice plots of SVMs as follows:"
   ]
  },
  {
   "cell_type": "code",
   "execution_count": null,
   "metadata": {},
   "outputs": [],
   "source": [
    "def plot_svc(svc, X, y, h=0.02, pad=0.25):\n",
    "    x_min, x_max = X[:, 0].min()-pad, X[:, 0].max()+pad\n",
    "    y_min, y_max = X[:, 1].min()-pad, X[:, 1].max()+pad\n",
    "    xx, yy = np.meshgrid(np.arange(x_min, x_max, h), np.arange(y_min, y_max, h))\n",
    "    Z = svc.predict(np.c_[xx.ravel(), yy.ravel()])\n",
    "    Z = Z.reshape(xx.shape)\n",
    "    plt.contourf(xx, yy, Z, cmap=plt.cm.Paired, alpha=0.2)\n",
    "\n",
    "    plt.scatter(X[:,0], X[:,1], s=70, c=y, cmap=mpl.cm.Paired)\n",
    "    # Support vectors indicated in plot by vertical lines\n",
    "    sv = svc.support_vectors_\n",
    "    plt.scatter(sv[:,0], sv[:,1], c='k', marker='x', s=100, linewidths=1)\n",
    "    plt.xlim(x_min, x_max)\n",
    "    plt.ylim(y_min, y_max)\n",
    "    plt.xlabel('X1')\n",
    "    plt.ylabel('X2')\n",
    "    plt.show()\n",
    "    print('Number of support vectors: ', svc.support_.size)"
   ]
  },
  {
   "cell_type": "markdown",
   "metadata": {},
   "source": [
    "Remember that Python functions are created with `def`. Also, that the indentation is informative in Python and you will get an error message if it isn't respected. We call the function `plot_svc`. There are several functions from the `matplotlib.pyplot` module that we use such as `contourf` (for drawing filled countours), `scatter` (for plotting scatter plots), `xlim` and `ylim` (for setting axis ranges), and `xlabel` and `ylabel` (for axis labelling). Also, notice the use of the function `show`, which is needed to display the figure. We also use several `numpy` functions such as `meshgrid` (for coordinate matrices), `arange` (for froming evenly spaced values within a given interval), and `reshape` (for reshaping an array). The `plot_svc()` function takes as first argument a `SVC` object, which we just learnt how to use it. The best way to learn about a new language is by understanding how already implemented code works. In an *IPython* console you can use `help()` to access the reference documentation. Sometimes is easier just to google the function.\n",
    "\n",
    "Let's call the `plot_svc()` function to plot the support vector classifier:"
   ]
  },
  {
   "cell_type": "code",
   "execution_count": null,
   "metadata": {},
   "outputs": [],
   "source": [
    "plot_svc(svc, X, y)"
   ]
  },
  {
   "cell_type": "markdown",
   "metadata": {},
   "source": [
    "The region of feature space that will be assigned to the −1 class is shown in light blue, and the region that will be assigned to the +1 class is shown in brown. The decision boundary between the two classes is linear (because we used the argument `kernel=\"linear\"`).\n",
    "\n",
    "The support vectors are plotted with crosses and the remaining observations are plotted as circles; we see here that there\n",
    "are 13 support vectors. We can determine their identities as follows:"
   ]
  },
  {
   "cell_type": "code",
   "execution_count": null,
   "metadata": {},
   "outputs": [],
   "source": [
    "svc.support_"
   ]
  },
  {
   "cell_type": "markdown",
   "metadata": {},
   "source": [
    "What if we instead used a smaller value of the `cost` parameter?"
   ]
  },
  {
   "cell_type": "code",
   "execution_count": null,
   "metadata": {},
   "outputs": [],
   "source": [
    "svc2 = SVC(C=0.1, kernel='linear')\n",
    "svc2.fit(X, y)\n",
    "plot_svc(svc2, X, y)"
   ]
  },
  {
   "cell_type": "markdown",
   "metadata": {},
   "source": [
    "Now that a smaller value of the `c` parameter is being used, we obtain a larger number of support vectors, because the margin is now **wider**.\n",
    "\n",
    "The `sklearn.grid_search` module includes a function `GridSearchCV()` to perform cross-validation. In order to use this function, we pass in relevant information about the set of models that are under consideration. The following command indicates that we want perform 10-fold cross-validation to compare SVMs with a linear kernel, using a range of values of the cost parameter:"
   ]
  },
  {
   "cell_type": "code",
   "execution_count": null,
   "metadata": {},
   "outputs": [],
   "source": [
    "from sklearn.model_selection import GridSearchCV\n",
    "\n",
    "# Select the optimal C parameter by cross-validation\n",
    "tuned_parameters = [{'C': [0.001, 0.01, 0.1, 1, 5, 10, 100]}]\n",
    "clf = GridSearchCV(SVC(kernel='linear'), tuned_parameters, cv=10, scoring='accuracy')\n",
    "clf.fit(X, y)"
   ]
  },
  {
   "cell_type": "markdown",
   "metadata": {},
   "source": [
    "We can easily access the cross-validation errors for each of these models:"
   ]
  },
  {
   "cell_type": "code",
   "execution_count": null,
   "metadata": {
    "jupyter": {
     "outputs_hidden": false
    }
   },
   "outputs": [],
   "source": [
    "clf.cv_results_"
   ]
  },
  {
   "cell_type": "markdown",
   "metadata": {},
   "source": [
    "The `GridSearchCV()` function stores the best parameters obtained, which can be accessed as follows:"
   ]
  },
  {
   "cell_type": "code",
   "execution_count": null,
   "metadata": {
    "jupyter": {
     "outputs_hidden": false
    }
   },
   "outputs": [],
   "source": [
    "clf.best_params_"
   ]
  },
  {
   "cell_type": "markdown",
   "metadata": {},
   "source": [
    "c=0.001 is best according to `GridSearchCV()`. \n",
    "\n",
    "As usual, the `predict()` function can be used to predict the class label on a set of test observations, at any given value of the cost parameter. Let's generate a test data set:"
   ]
  },
  {
   "cell_type": "code",
   "execution_count": null,
   "metadata": {
    "jupyter": {
     "outputs_hidden": false
    }
   },
   "outputs": [],
   "source": [
    "np.random.seed(1)\n",
    "X_test = np.random.randn(20,2)\n",
    "y_test = np.random.choice([-1,1], 20)\n",
    "X_test[y_test == 1] = X_test[y_test == 1]-1"
   ]
  },
  {
   "cell_type": "markdown",
   "metadata": {},
   "source": [
    "Now we predict the class labels of these test observations. Here we use the\n",
    "best model obtained through cross-validation in order to make predictions:"
   ]
  },
  {
   "cell_type": "code",
   "execution_count": null,
   "metadata": {
    "jupyter": {
     "outputs_hidden": false
    }
   },
   "outputs": [],
   "source": [
    "from sklearn.metrics import confusion_matrix\n",
    "svc2 = SVC(C=0.001, kernel='linear')\n",
    "svc2.fit(X, y)\n",
    "y_pred = svc2.predict(X_test)\n",
    "pd.DataFrame(confusion_matrix(y_test, y_pred), index=svc2.classes_, columns=svc2.classes_)"
   ]
  },
  {
   "cell_type": "markdown",
   "metadata": {},
   "source": [
    "With this value of ${\\tt c}$, 14 of the test observations are correctly\n",
    "classified."
   ]
  },
  {
   "cell_type": "markdown",
   "metadata": {},
   "source": [
    "Now consider a situation in which the two classes are linearly separable.\n",
    "Then we can find a separating hyperplane using the `svm()` function. First we'll give our simulated data a little nudge so that they are linearly separable:"
   ]
  },
  {
   "cell_type": "code",
   "execution_count": null,
   "metadata": {
    "jupyter": {
     "outputs_hidden": false
    }
   },
   "outputs": [],
   "source": [
    "X_test[y_test == 1] = X_test[y_test == 1] -1\n",
    "plt.scatter(X_test[:,0], X_test[:,1], s=70, c=y_test, cmap=mpl.cm.Paired)\n",
    "plt.xlabel('X1')\n",
    "plt.ylabel('X2')"
   ]
  },
  {
   "cell_type": "markdown",
   "metadata": {},
   "source": [
    "Now the observations are **just barely linearly** separable. We fit the support\n",
    "vector classifier and plot the resulting hyperplane, using a very large value\n",
    "of `cost` so that no observations are misclassified."
   ]
  },
  {
   "cell_type": "code",
   "execution_count": null,
   "metadata": {
    "jupyter": {
     "outputs_hidden": false
    }
   },
   "outputs": [],
   "source": [
    "svc3 = SVC(C=1e5, kernel='linear')\n",
    "svc3.fit(X_test, y_test)\n",
    "plot_svc(svc3, X_test, y_test)"
   ]
  },
  {
   "cell_type": "markdown",
   "metadata": {},
   "source": [
    "No training errors were made and only three support vectors were used.\n",
    "However, we can see from the figure that the margin is very narrow (because\n",
    "the observations that are **not** support vectors, indicated as circles, are very close to the decision boundary). It seems likely that this model will perform poorly on test data. Let's try a smaller value of `cost`:"
   ]
  },
  {
   "cell_type": "code",
   "execution_count": null,
   "metadata": {
    "jupyter": {
     "outputs_hidden": false
    }
   },
   "outputs": [],
   "source": [
    "svc4 = SVC(C=1, kernel='linear')\n",
    "svc4.fit(X_test, y_test)\n",
    "plot_svc(svc4, X_test, y_test)"
   ]
  },
  {
   "cell_type": "markdown",
   "metadata": {},
   "source": [
    "Using `cost=1`, we misclassify a training observation, but we also obtain a much wider margin and make use of five support vectors. It seems likely that this model will perform better on test data than the model with `cost=1e5`.\n",
    "\n",
    "## Support Vector Machine\n",
    "\n",
    "In order to fit an SVM using a **non-linear kernel**, we once again use the `SVC()` function. However, now we use a different value of the parameter kernel. To fit an SVM with a polynomial kernel we use `kernel=\"poly\"`, and to fit an SVM with a radial kernel we use `kernel=\"rbf\"`. In the former case we also use the `degree` argument to specify a degree for the polynomial\n",
    "kernel, and in the latter case we use `gamma` to specify a value of $\\gamma$ for the radial basis kernel.\n",
    "\n",
    "Let's generate some data with a non-linear class boundary:"
   ]
  },
  {
   "cell_type": "code",
   "execution_count": null,
   "metadata": {
    "jupyter": {
     "outputs_hidden": false
    }
   },
   "outputs": [],
   "source": [
    "from sklearn.model_selection import train_test_split\n",
    "\n",
    "np.random.seed(8)\n",
    "X = np.random.randn(200,2)\n",
    "X[:100] = X[:100] +2\n",
    "X[101:150] = X[101:150] -2\n",
    "y = np.concatenate([np.repeat(-1, 150), np.repeat(1,50)])\n",
    "\n",
    "X_train, X_test, y_train, y_test = train_test_split(X, y, train_size=0.5, random_state=2)\n",
    "\n",
    "plt.scatter(X[:,0], X[:,1], s=70, c=y, cmap=mpl.cm.Paired)\n",
    "plt.xlabel('X1')\n",
    "plt.ylabel('X2')"
   ]
  },
  {
   "cell_type": "markdown",
   "metadata": {},
   "source": [
    "See how one class is kind of stuck in the middle of another class? This suggests that we might want to use a **radial kernel** in our SVM. Now let's fit the training data using the `SVC()` function with a radial kernel and $\\gamma = 1$:"
   ]
  },
  {
   "cell_type": "code",
   "execution_count": null,
   "metadata": {
    "jupyter": {
     "outputs_hidden": false
    }
   },
   "outputs": [],
   "source": [
    "svm = SVC(C=1.0, kernel='rbf', gamma=1)\n",
    "svm.fit(X_train, y_train)\n",
    "plot_svc(svm, X_test, y_test)"
   ]
  },
  {
   "cell_type": "markdown",
   "metadata": {},
   "source": [
    "Not too shabby! The plot shows that the resulting SVM has a decidedly non-linear boundary. We can see from the figure that there are a fair number of training errors in this SVM fit. If we increase the value of cost, we can reduce the number of training errors:"
   ]
  },
  {
   "cell_type": "code",
   "execution_count": null,
   "metadata": {
    "jupyter": {
     "outputs_hidden": false
    }
   },
   "outputs": [],
   "source": [
    "# Increasing C parameter, allowing more flexibility\n",
    "svm2 = SVC(C=100, kernel='rbf', gamma=1.0)\n",
    "svm2.fit(X_train, y_train)\n",
    "plot_svc(svm2, X_test, y_test)"
   ]
  },
  {
   "cell_type": "markdown",
   "metadata": {},
   "source": [
    "However, this comes at the price of a more irregular decision boundary that seems to be at risk of overfitting the data. We can perform cross-validation using `GridSearchCV()` to select the best choice of $\\gamma$ and cost for an SVM with a radial kernel:"
   ]
  },
  {
   "cell_type": "code",
   "execution_count": null,
   "metadata": {
    "jupyter": {
     "outputs_hidden": false
    }
   },
   "outputs": [],
   "source": [
    "tuned_parameters = [{'C': [0.01, 0.1, 1, 10, 100],\n",
    "                     'gamma': [0.5, 1,2,3,4]}]\n",
    "clf = GridSearchCV(SVC(kernel='rbf'), tuned_parameters, cv=10, scoring='accuracy')\n",
    "clf.fit(X_train, y_train)\n",
    "clf.best_params_"
   ]
  },
  {
   "cell_type": "markdown",
   "metadata": {},
   "source": [
    "Therefore, the best choice of parameters involves `cost=1` and `gamma=0.5`. We can plot the resulting fit using the `plot_svc()` function, and view the test set predictions for this model by applying the `predict()` function to the test data:"
   ]
  },
  {
   "cell_type": "code",
   "execution_count": null,
   "metadata": {
    "jupyter": {
     "outputs_hidden": false
    }
   },
   "outputs": [],
   "source": [
    "plot_svc(clf.best_estimator_, X_test, y_test)\n",
    "print(confusion_matrix(y_test, clf.best_estimator_.predict(X_test)))\n",
    "print(clf.best_estimator_.score(X_test, y_test))"
   ]
  },
  {
   "cell_type": "markdown",
   "metadata": {},
   "source": [
    "87% of test observations are correctly classified by this SVM. Not bad!"
   ]
  },
  {
   "cell_type": "markdown",
   "metadata": {},
   "source": [
    "## Comparing model performance\n",
    "\n",
    "As we studied in the lecture and tested aboved, cross-validation is usually used to select the best set of hyperparameters (i.e. the ones that produces best performance). The common practice is to leave aside a test subset that is used to report the final evaluation of the model. This is precisely what we did above. Let's now extend this idea to the use of more than one algorithm. In a more real sceneario, it is typical (and recommended) to perform a model comparison analysis over as many ML algorithms as possible.\n",
    "\n",
    "For instance, the following code estimate the cross-validated performance of a particular *svm* model:"
   ]
  },
  {
   "cell_type": "code",
   "execution_count": null,
   "metadata": {},
   "outputs": [],
   "source": [
    "from sklearn.model_selection import cross_val_score\n",
    "\n",
    "mdl = SVC(C=1, kernel='rbf')\n",
    "scores = cross_val_score(mdl, X_train, y_train, cv=10)\n",
    "print(\"Accuracy: mean %0.2f,  SE: %0.2f)\" % (scores.mean(), scores.std()))"
   ]
  },
  {
   "cell_type": "markdown",
   "metadata": {},
   "source": [
    "We may wish compare several models. Let's assume we would like to compare three SVM models which are implemented using three different kernel functions: `linear`, `poly` and `rbf`. In addition, we would like to verify that a logistic regression model doesn't do better than any of them. So, the strategy we will follow consists in comparing the estimated cross-validated performance of the models. In order to have a fairer comparison as possible, we should use the same data splits for all the estimations. To this, we must choose a cross-validator first. It could be `KFold()` which implements the standard CV. There are other options, please refer to the `sklearn` documentation."
   ]
  },
  {
   "cell_type": "code",
   "execution_count": null,
   "metadata": {},
   "outputs": [],
   "source": [
    "from sklearn.linear_model import LogisticRegression\n",
    "from sklearn.model_selection import KFold\n",
    "\n",
    "kcv = KFold(n_splits=10)\n",
    "\n",
    "mdl_lr = LogisticRegression(max_iter = 10000)\n",
    "mdl_svm1 = SVC(C=1, kernel='linear')\n",
    "mdl_svm2 = SVC(C=1, kernel='poly', degree=5)\n",
    "mdl_svm3 = SVC(C=1, kernel='rbf', gamma=50)\n",
    "\n",
    "scores_lr = cross_val_score(mdl_lr, X_train, y_train, cv=kcv)\n",
    "scores_svm1 = cross_val_score(mdl_svm1, X_train, y_train, cv=kcv)\n",
    "scores_svm2 = cross_val_score(mdl_svm2, X_train, y_train, cv=kcv)\n",
    "scores_svm3 = cross_val_score(mdl_svm3, X_train, y_train, cv=kcv)\n",
    "\n",
    "print(\"LR Accuracy: mean %0.2f,  SE: %0.2f)\" % (scores_lr.mean(), scores_lr.std()))\n",
    "print(\"SVM-linear Accuracy: mean %0.2f,  SE: %0.2f)\" % (scores_svm1.mean(), scores_svm1.std()))\n",
    "print(\"SVM-poly Accuracy: mean %0.2f,  SE: %0.2f)\" % (scores_svm2.mean(), scores_svm2.std()))\n",
    "print(\"SVM-rbf Accuracy: mean %0.2f,  SE: %0.2f)\" % (scores_svm3.mean(), scores_svm3.std()))\n"
   ]
  },
  {
   "cell_type": "markdown",
   "metadata": {},
   "source": [
    "The issue with above approach is that we are not tuning SVM hyperparameters, so we surely are reporting suboptimal performances. \n",
    "\n",
    "The `LogisticRegression()` function includes `l1` and `l2` pensalisation terms (which represent *lasso* and *ridge*, as discussed in previous lectures). By default, the function implements `l2` with a hyperparameter `C`. This parameter works very similar to the SVM's *C* (smaller values specify stronger regularisation). The fillowing code searches for an optimal value for `C`:"
   ]
  },
  {
   "cell_type": "code",
   "execution_count": null,
   "metadata": {},
   "outputs": [],
   "source": [
    "kcv = KFold(n_splits=10)\n",
    "\n",
    "lr_hyp_grid = [{'C': [0.1, 1, 10, 100]}]\n",
    "mdls_lr = GridSearchCV(LogisticRegression(), param_grid=lr_hyp_grid, cv=kcv, scoring='accuracy').fit(X_train, y_train)\n",
    "mdls_lr.cv_results_"
   ]
  },
  {
   "cell_type": "markdown",
   "metadata": {},
   "source": [
    "Before, we have just extracted the optimal hyperparameters. We use `cv_results_` to read all the search results.\n",
    "\n",
    "Let's implement a similar code for SVMs:"
   ]
  },
  {
   "cell_type": "code",
   "execution_count": null,
   "metadata": {},
   "outputs": [],
   "source": [
    "svm_hyp_grid = [\n",
    "    {'C': [0.1, 1, 10, 100], 'kernel': ['linear']},\n",
    "    {'C': [0.1, 1, 10, 100], 'gamma': [0.01, 0.1, 0.5, 1, 100], 'kernel': ['rbf']}\n",
    "]\n",
    "\n",
    "mdls_svm = GridSearchCV(SVC(), param_grid=svm_hyp_grid, cv=kcv, scoring='accuracy').fit(X_train, y_train)"
   ]
  },
  {
   "cell_type": "markdown",
   "metadata": {},
   "source": [
    "Now, let's put all the results together. We aim for creating an errorbar plot so we can form a better picture of the several model options we now have:"
   ]
  },
  {
   "cell_type": "code",
   "execution_count": null,
   "metadata": {},
   "outputs": [],
   "source": [
    "scores_mean = np.concatenate((mdls_lr.cv_results_['mean_test_score'],\n",
    "                             mdls_svm.cv_results_['mean_test_score']))\n",
    "\n",
    "scores_std = np.concatenate((mdls_lr.cv_results_['std_test_score'],\n",
    "                             mdls_svm.cv_results_['std_test_score']))\n",
    "\n",
    "mdl_lbls = []\n",
    "for pos in np.concatenate((mdls_lr.cv_results_['params'],mdls_svm.cv_results_['params'])):\n",
    "    key_values = pos.items()\n",
    "    mdl_lbls +=[', '.join([str(key)+ ':' + str(value) for key, value in key_values])]\n",
    "\n",
    "plt.figure(figsize=(10,8))\n",
    "plt.errorbar(scores_mean, mdl_lbls, xerr=scores_std, fmt='o', color='black',\n",
    "             ecolor='lightgray', elinewidth=4, capsize=0)\n",
    "plt.grid(True, )\n",
    "plt.xlabel('Accuracy score')\n",
    "plt.ylabel('Model')"
   ]
  },
  {
   "cell_type": "markdown",
   "metadata": {},
   "source": [
    "Notice the difference in model performance across the model implementations. For this particular example, the worst models exhibit performances around 0.77, whilst the best ones are above 0.9. This shows the importance for model selection and validation.\n",
    "\n",
    "Remember that we left aside a test data subset. We usually use it to report overall performances and final verifications. From the above plot we notice that two SVM-RBF models stand out: 1) $C=10$ and $\\gamma=0.1$, and 2) $C=1$ and $\\gamma=0.5$. We can use the test subset for a final decision:"
   ]
  },
  {
   "cell_type": "code",
   "execution_count": null,
   "metadata": {},
   "outputs": [],
   "source": [
    "svm1 = SVC(C=10, kernel='rbf', gamma=0.1).fit(X_train, y_train)\n",
    "svm2 = SVC(C=1, kernel='rbf', gamma=0.5).fit(X_train, y_train)\n",
    "\n",
    "#y_pred1 = svm1.predict(X_test)\n",
    "#y_pred2 = svm2.predict(X_test)\n",
    "\n",
    "print('Test accuracy SVM1 = %0.2f' % (svm1.score(X_test, y_test)))\n",
    "print('Test accuracy SVM2 = %0.2f' % (svm2.score(X_test, y_test)))"
   ]
  },
  {
   "cell_type": "markdown",
   "metadata": {},
   "source": [
    "It seems the first SVM model is just slightly better than the second one.\n",
    "\n",
    "## ROC Curves\n",
    "\n",
    "The `auc()` function from the `sklearn.metrics` package can be used to produce ROC curves such as those we saw in previous lecture:"
   ]
  },
  {
   "cell_type": "code",
   "execution_count": null,
   "metadata": {},
   "outputs": [],
   "source": [
    "from sklearn.metrics import auc\n",
    "from sklearn.metrics import roc_curve"
   ]
  },
  {
   "cell_type": "markdown",
   "metadata": {},
   "source": [
    "We can use ROC analysis to get a finer picture about the two chosen models. In addition, let's include one of the LRs for illustration purpose:"
   ]
  },
  {
   "cell_type": "code",
   "execution_count": null,
   "metadata": {},
   "outputs": [],
   "source": [
    "lr1 = LogisticRegression(C=0.1).fit(X_train, y_train)\n",
    "print('Test accuracy LR = %0.2f' % (lr1.score(X_test, y_test)))"
   ]
  },
  {
   "cell_type": "markdown",
   "metadata": {},
   "source": [
    "SVMs and support vector classifiers output class labels for each observation.\n",
    "However, it is also possible to obtain fitted values for each observation,\n",
    "which are the numerical scores used to obtain the class labels. For instance,\n",
    "in the case of a support vector classifier, the fitted value for an observation\n",
    "$X = (X_1,X_2, . . .,X_p)^T$ takes the form $\\hat\\beta_0 + \\hat\\beta_1X_1 + \\hat\\beta_2X_2 + . . . + \\hat\\beta_pX_p$.\n",
    "\n",
    "For an SVM with a non-linear kernel, the equation that yields the fitted\n",
    "value was given in the lecture slides. In essence, the sign of the fitted value determines\n",
    "on which side of the decision boundary the observation lies. Therefore, the\n",
    "relationship between the fitted value and the class prediction for a given\n",
    "observation is simple: if the fitted value exceeds zero then the observation\n",
    "is assigned to one class, and if it is less than zero than it is assigned to the\n",
    "other.\n",
    "\n",
    "In order to obtain the fitted values for a given SVM model fit, we\n",
    "use the `.decision_function()` method of the SVC:"
   ]
  },
  {
   "cell_type": "code",
   "execution_count": null,
   "metadata": {},
   "outputs": [],
   "source": [
    "y_train_score1 = svm1.decision_function(X_train)\n",
    "y_train_score2 = svm2.decision_function(X_train)"
   ]
  },
  {
   "cell_type": "markdown",
   "metadata": {},
   "source": [
    "Now we can produce the ROC plot to see how the models perform on both the training and the test data:"
   ]
  },
  {
   "cell_type": "code",
   "execution_count": null,
   "metadata": {
    "jupyter": {
     "outputs_hidden": false
    }
   },
   "outputs": [],
   "source": [
    "false_pos_rate1, true_pos_rate1, _ = roc_curve(y_train, y_train_score1)\n",
    "roc_auc1 = auc(false_pos_rate1, true_pos_rate1)\n",
    "\n",
    "false_pos_rate2, true_pos_rate2, _ = roc_curve(y_train, y_train_score2)\n",
    "roc_auc2 = auc(false_pos_rate2, true_pos_rate2)\n",
    "\n",
    "y_train_probs = lr1.predict_proba(X_train)[:,1]\n",
    "false_pos_rate3, true_pos_rate3, _ = roc_curve(y_train, y_train_probs)\n",
    "roc_auc3 = auc(false_pos_rate3, true_pos_rate3)\n",
    "\n",
    "fig, (ax1,ax2) = plt.subplots(1, 2, figsize=(14,6))\n",
    "ax1.plot(false_pos_rate1, true_pos_rate1, label='SVM $C=10, \\gamma = 0.1$ ROC curve (area = %0.2f)' % roc_auc1, color='b')\n",
    "ax1.plot(false_pos_rate2, true_pos_rate2, label='SVM $C=1, \\gamma = 0.5$ ROC curve (area = %0.2f)' % roc_auc2, color='r')\n",
    "ax1.plot(false_pos_rate3, true_pos_rate3, label='LogReg $C=0.1$ ROC curve (area = %0.2f)' % roc_auc3, color='g')\n",
    "ax1.set_title('Training Data')\n",
    "\n",
    "y_test_score1 = svm1.decision_function(X_test)\n",
    "y_test_score2 = svm2.decision_function(X_test)\n",
    "\n",
    "false_pos_rate1, true_pos_rate1, _ = roc_curve(y_test, y_test_score1)\n",
    "roc_auc1 = auc(false_pos_rate1, true_pos_rate1)\n",
    "\n",
    "false_pos_rate2, true_pos_rate2, _ = roc_curve(y_test, y_test_score2)\n",
    "roc_auc2 = auc(false_pos_rate2, true_pos_rate2)\n",
    "\n",
    "y_test_probs = lr1.predict_proba(X_test)[:,1]\n",
    "false_pos_rate3, true_pos_rate3, _ = roc_curve(y_test, y_test_probs)\n",
    "roc_auc3 = auc(false_pos_rate3, true_pos_rate3)\n",
    "\n",
    "ax2.plot(false_pos_rate1, true_pos_rate1, label='SVM $C=10, \\gamma = 0.1$ ROC curve (area = %0.2f)' % roc_auc1, color='b')\n",
    "ax2.plot(false_pos_rate2, true_pos_rate2, label='SVM $C=1, \\gamma = 0.5$ ROC curve (area = %0.2f)' % roc_auc2, color='r')\n",
    "ax2.plot(false_pos_rate3, true_pos_rate3, label='LogReg $C=0.1$ ROC curve (area = %0.2f)' % roc_auc3, color='g')\n",
    "ax2.set_title('Test Data')\n",
    "\n",
    "for ax in fig.axes:\n",
    "    ax.plot([0, 1], [0, 1], 'k--')\n",
    "    ax.set_xlim([-0.05, 1.0])\n",
    "    ax.set_ylim([0.0, 1.05])\n",
    "    ax.set_xlabel('False Positive Rate')\n",
    "    ax.set_ylabel('True Positive Rate')\n",
    "    ax.legend(loc=\"lower right\")"
   ]
  },
  {
   "cell_type": "markdown",
   "metadata": {},
   "source": [
    "So, it is clearer now that the first SVM is better than the second one, as the gap between test AUCs is more significant now. It is interesnting to note the very poor performance of the LogReg model. **Why is this?**"
   ]
  },
  {
   "cell_type": "markdown",
   "metadata": {},
   "source": [
    "## SVM with Multiple Classes\n",
    "\n",
    "If the response is a factor containing more than two levels, then the `svm()`\n",
    "function will perform multi-class classification using the one-versus-one approach.\n",
    "We explore that setting here by generating a third class of observations:"
   ]
  },
  {
   "cell_type": "code",
   "execution_count": null,
   "metadata": {
    "jupyter": {
     "outputs_hidden": false
    }
   },
   "outputs": [],
   "source": [
    "np.random.seed(8)\n",
    "XX = np.vstack([X, np.random.randn(50,2)])\n",
    "yy = np.hstack([y, np.repeat(0,50)])\n",
    "XX[yy ==0] = XX[yy == 0] +4\n",
    "\n",
    "plt.scatter(XX[:,0], XX[:,1], s=70, c=yy, cmap=plt.cm.prism)\n",
    "plt.xlabel('XX1')\n",
    "plt.ylabel('XX2')"
   ]
  },
  {
   "cell_type": "markdown",
   "metadata": {},
   "source": [
    "Fitting an SVM to multiclass data uses identical syntax to fitting a simple two-class model:"
   ]
  },
  {
   "cell_type": "code",
   "execution_count": null,
   "metadata": {},
   "outputs": [],
   "source": [
    "svm5 = SVC(C=1, kernel='rbf')\n",
    "svm5.fit(XX, yy)\n",
    "plot_svc(svm5, XX, yy)"
   ]
  },
  {
   "cell_type": "markdown",
   "metadata": {},
   "source": [
    "## Application to Handwritten Letter Data\n",
    "\n",
    "We now examine [Optical Recognition of Handwritten Digits Data Set](http://archive.ics.uci.edu/ml/datasets/optical+recognition+of+handwritten+digits), which contains 5,620 samples of handwritten digits 0..9. You can use these links to download the [training data](http://archive.ics.uci.edu/ml/machine-learning-databases/optdigits/optdigits.tra) and [test data](http://archive.ics.uci.edu/ml/machine-learning-databases/optdigits/optdigits.tes), and then we'll load them into python, or get them from the module GitHub's repository as in the example below:"
   ]
  },
  {
   "cell_type": "code",
   "execution_count": null,
   "metadata": {},
   "outputs": [],
   "source": [
    "X_train = pd.read_csv('https://raw.githubusercontent.com/iaolier/7021DATSCI/main/data/optdigits.tra', header=None)\n",
    "y_train = X_train[64]\n",
    "X_train = X_train.drop(X_train.columns[64], axis=1)\n",
    "\n",
    "X_test = pd.read_csv('https://raw.githubusercontent.com/iaolier/7021DATSCI/main/data/optdigits.tes', header=None)\n",
    "y_test = X_test[64]\n",
    "X_test = X_test.drop(X_test.columns[64], axis=1)"
   ]
  },
  {
   "cell_type": "markdown",
   "metadata": {},
   "source": [
    "Let's take a look at the dimensions of this dataset:"
   ]
  },
  {
   "cell_type": "code",
   "execution_count": null,
   "metadata": {
    "jupyter": {
     "outputs_hidden": false
    }
   },
   "outputs": [],
   "source": [
    "print(X_train.shape)\n",
    "print(X_test.shape)"
   ]
  },
  {
   "cell_type": "markdown",
   "metadata": {},
   "source": [
    "This data set consists of preprocessed images of handwriting samples gathered from 43 different people. Each image was converted into an 8x8 matrix (64 pixels), which was then flattened into a vector of 64 numeric values. The final column contains the class label for each digit.\n",
    "\n",
    "The training and test sets consist of 3,823 and 1,797 observations respectively. Let's see what one of these digits looks like:"
   ]
  },
  {
   "cell_type": "code",
   "execution_count": null,
   "metadata": {
    "jupyter": {
     "outputs_hidden": false
    }
   },
   "outputs": [],
   "source": [
    "plt.imshow(X_train.values[50].reshape(8,8), cmap=\"gray\") \n",
    "plt.show()"
   ]
  },
  {
   "cell_type": "markdown",
   "metadata": {},
   "source": [
    "That's a pretty messy digit. Let's peek at the true class:"
   ]
  },
  {
   "cell_type": "code",
   "execution_count": null,
   "metadata": {
    "jupyter": {
     "outputs_hidden": false
    }
   },
   "outputs": [],
   "source": [
    "y_train[50]"
   ]
  },
  {
   "cell_type": "markdown",
   "metadata": {},
   "source": [
    "It looks like our SVM has its work cut out for it! Let's start with a linear kernel to see how we do:"
   ]
  },
  {
   "cell_type": "code",
   "execution_count": null,
   "metadata": {
    "jupyter": {
     "outputs_hidden": false
    }
   },
   "outputs": [],
   "source": [
    "svc = SVC(kernel='linear')\n",
    "svc.fit(X_train, y_train)\n",
    "\n",
    "# Print a nice confusion matrix\n",
    "cm = confusion_matrix(y_train, svc.predict(X_train))\n",
    "cm_df = pd.DataFrame(cm.T, index=svc.classes_, columns=svc.classes_)\n",
    "print(cm_df)"
   ]
  },
  {
   "cell_type": "markdown",
   "metadata": {},
   "source": [
    "We see that there are **no training errors**. In fact, this is not surprising,\n",
    "because the large number of variables relative to the number of observations\n",
    "implies that it is easy to find hyperplanes that fully separate the classes. We\n",
    "are most interested not in the support vector classifier’s performance on the\n",
    "training observations, but rather its performance on the test observations:"
   ]
  },
  {
   "cell_type": "code",
   "execution_count": null,
   "metadata": {
    "jupyter": {
     "outputs_hidden": false
    }
   },
   "outputs": [],
   "source": [
    "cm = confusion_matrix(y_test, svc.predict(X_test))\n",
    "print(pd.DataFrame(cm.T, index=svc.classes_, columns=svc.classes_))"
   ]
  },
  {
   "cell_type": "markdown",
   "metadata": {},
   "source": [
    "## Exercise 1:\n",
    "We see that using `cost = 10` yields just 71 test set errors on this data. Now try using the `GridSearchCV()` function to select an optimal value for `c`. Consider values in the range 0.01 to 100:"
   ]
  },
  {
   "cell_type": "markdown",
   "metadata": {},
   "source": [
    "## Exercise 2: Support vector regression (SVR)\n",
    "SVRs are implemented using the `sklearn` object `SVR` (details in: https://scikit-learn.org/stable/modules/generated/sklearn.svm.SVR.html). Use the *Hitters* dataset (https://raw.githubusercontent.com/iaolier/7021DATSCI/main/data/Hitters.csv) to build a model that predicts the salary as a function of the other variables. You should do your best to produce the best possible model among several SVR and multiple linear regression models. The final outcome of this task is an errorbar plot with all your models reported (similar to the one above for classification). "
   ]
  },
  {
   "cell_type": "code",
   "execution_count": null,
   "metadata": {},
   "outputs": [],
   "source": [
    "# Insert your code here."
   ]
  }
 ],
 "metadata": {
  "anaconda-cloud": {},
  "kernelspec": {
   "display_name": "Python 3",
   "language": "python",
   "name": "python3"
  },
  "language_info": {
   "codemirror_mode": {
    "name": "ipython",
    "version": 3
   },
   "file_extension": ".py",
   "mimetype": "text/x-python",
   "name": "python",
   "nbconvert_exporter": "python",
   "pygments_lexer": "ipython3",
   "version": "3.9.7"
  }
 },
 "nbformat": 4,
 "nbformat_minor": 4
}
